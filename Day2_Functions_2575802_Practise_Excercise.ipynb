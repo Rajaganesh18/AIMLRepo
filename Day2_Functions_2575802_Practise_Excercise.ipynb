{
 "cells": [
  {
   "cell_type": "markdown",
   "id": "a7d59979",
   "metadata": {},
   "source": [
    "# Write a python Function to list even and odd numbers in a list"
   ]
  },
  {
   "cell_type": "code",
   "execution_count": 3,
   "id": "e9a261be",
   "metadata": {},
   "outputs": [
    {
     "name": "stdout",
     "output_type": "stream",
     "text": [
      "Even numbers: [2, 4, 6, 8]\n",
      "Odd numbers: [1, 3, 5, 7, 9]\n"
     ]
    }
   ],
   "source": [
    "def even_odd(numbers):\n",
    "    even= []\n",
    "    odd= []\n",
    "    \n",
    "    for num in numbers:\n",
    "        if num % 2 == 0:\n",
    "            even.append(num)\n",
    "        else:\n",
    "            odd.append(num)\n",
    "    \n",
    "    return even, odd\n",
    "\n",
    "\n",
    "numbers = [1, 2, 3, 4, 5, 6, 7, 8, 9]\n",
    "even,odd = even_odd(numbers)\n",
    "\n",
    "print(\"Even numbers:\", even)\n",
    "print(\"Odd numbers:\", odd)\n"
   ]
  },
  {
   "cell_type": "markdown",
   "id": "65e3549c",
   "metadata": {},
   "source": [
    "# 2. Write and run a Python Program that asks the user to enter 8 integers and then pointss out how of those are even numbers"
   ]
  },
  {
   "cell_type": "code",
   "execution_count": 8,
   "id": "da97221b",
   "metadata": {},
   "outputs": [
    {
     "name": "stdout",
     "output_type": "stream",
     "text": [
      "Enter the 8 integers\n",
      "19\n",
      "6\n",
      "9\n",
      "20\n",
      "13\n",
      "7\n",
      "6\n",
      "1\n",
      "The no of even numbers are 3\n"
     ]
    }
   ],
   "source": [
    "def evencount(listcount):\n",
    "    count =0\n",
    "    for i in listcount:\n",
    "        if i%2==0:\n",
    "            count+=1\n",
    "    return count\n",
    "\n",
    "n=8\n",
    "print(\"Enter the 8 integers\")\n",
    "listcount=[]\n",
    "for i in range(n):\n",
    "    a=int(input())\n",
    "    listcount.append(a)\n",
    "count=evencount(listcount)\n",
    "print (\"The no of even numbers are\", count)"
   ]
  },
  {
   "cell_type": "markdown",
   "id": "9e987da3",
   "metadata": {},
   "source": [
    "# 3.Write a python program where you take any positive integer n,if n is even divide it by 2 to get n/2 if nis odd multiply by 3 and add 1 to obtain 3n+1. Repeat the process until you reach 1"
   ]
  },
  {
   "cell_type": "code",
   "execution_count": 10,
   "id": "62b60bf5",
   "metadata": {},
   "outputs": [
    {
     "name": "stdout",
     "output_type": "stream",
     "text": [
      "Enter the positive number8\n",
      "1.0\n"
     ]
    }
   ],
   "source": [
    "def div(n):\n",
    "    return n/2\n",
    "\n",
    "def multi(n):\n",
    "    return (n*3)+1\n",
    "\n",
    "n=int(input(\"Enter the positive number\"))\n",
    "while (n!=1):\n",
    "    if n%2==0:\n",
    "        n=div(n)\n",
    "    elif n%2!=0:\n",
    "        n=multi(n)\n",
    "\n",
    "print(n)"
   ]
  },
  {
   "cell_type": "markdown",
   "id": "554de6c4",
   "metadata": {},
   "source": [
    "# 4. Write a python program to compute the sum of all the multiples of 3 or 5 below 500"
   ]
  },
  {
   "cell_type": "code",
   "execution_count": 21,
   "id": "bfc82c99",
   "metadata": {},
   "outputs": [
    {
     "name": "stdout",
     "output_type": "stream",
     "text": [
      "57918\n"
     ]
    }
   ],
   "source": [
    "def sumOfMultiples():\n",
    "    sum=0\n",
    "    for i in range(1,500):\n",
    "        if(i%3==0 or i%5==0):\n",
    "            sum=sum+i\n",
    "    print(sum)\n",
    "    \n",
    "sumOfMultiples()\n"
   ]
  },
  {
   "cell_type": "markdown",
   "id": "5d92683e",
   "metadata": {},
   "source": [
    "# 5. Write a python program to find first 'n' from a list of given number"
   ]
  },
  {
   "cell_type": "code",
   "execution_count": 22,
   "id": "587717d8",
   "metadata": {},
   "outputs": [
    {
     "name": "stdout",
     "output_type": "stream",
     "text": [
      "Enter the number of prime numbers you want to find: 4\n",
      "The first 4 prime numbers are:\n",
      "[2, 3, 5, 7]\n"
     ]
    }
   ],
   "source": [
    "N = int(input(\"Enter the number of prime numbers you want to find: \"))\n",
    "prime_numbers = []\n",
    "num = 2\n",
    "\n",
    "while len(prime_numbers) < N:\n",
    "    is_prime = True\n",
    "    \n",
    "    for divisor in range(2, num):\n",
    "        if num % divisor == 0:\n",
    "            is_prime = False\n",
    "            break \n",
    "    if is_prime:\n",
    "        prime_numbers.append(num)\n",
    "    num += 1\n",
    "\n",
    "print(f\"The first {N} prime numbers are:\")\n",
    "print(prime_numbers)\n"
   ]
  },
  {
   "cell_type": "markdown",
   "id": "9d47549a",
   "metadata": {},
   "source": [
    "# 6. To write a Python program to compute the matrix multiplication"
   ]
  },
  {
   "cell_type": "code",
   "execution_count": 11,
   "id": "bb6e3d50",
   "metadata": {},
   "outputs": [
    {
     "name": "stdout",
     "output_type": "stream",
     "text": [
      "[58, 64]\n",
      "[139, 154]\n"
     ]
    }
   ],
   "source": [
    "def matrix_multiply(A, B):\n",
    "    result = [[0 for _ in range(len(B[0]))] for _ in range(len(A))]\n",
    "\n",
    "    for i in range(len(A)):\n",
    "        for j in range(len(B[0])):\n",
    "            for k in range(len(B)):\n",
    "                result[i][j] += A[i][k] * B[k][j]\n",
    "\n",
    "    return result\n",
    "\n",
    "\n",
    "\n",
    "\n",
    "A = [\n",
    "    [1, 2, 3],\n",
    "    [4, 5, 6],\n",
    "]\n",
    "B = [\n",
    "    [7, 8],\n",
    "    [9, 10],\n",
    "    [11, 12],\n",
    "]\n",
    "\n",
    "result = matrix_multiply(A, B)\n",
    "for row in result:\n",
    "    print(row)"
   ]
  },
  {
   "cell_type": "markdown",
   "id": "a622f88b",
   "metadata": {},
   "source": [
    "# 7. Write a python function to count the number of vowels in a string"
   ]
  },
  {
   "cell_type": "code",
   "execution_count": 14,
   "id": "41022ad3",
   "metadata": {},
   "outputs": [
    {
     "name": "stdout",
     "output_type": "stream",
     "text": [
      "Enter the string to count the vowelsrajaganbesj;l,\n",
      "4\n"
     ]
    }
   ],
   "source": [
    "def VowelCount(string):\n",
    "    vowels = \"AEIOUaeiou\"\n",
    "    count = 0\n",
    "\n",
    "    for char in string:\n",
    "        if char in vowels:\n",
    "            count += 1\n",
    "    \n",
    "    return count\n",
    "\n",
    "string =input(\"Enter the string to count the vowels\")\n",
    "vowel_count = VowelCount(string)\n",
    "print(vowel_count)\n",
    "\n",
    "\n"
   ]
  },
  {
   "cell_type": "markdown",
   "id": "60bc1e59",
   "metadata": {},
   "source": [
    "# 8. Python function for finding factorial for the given number using a recursive function"
   ]
  },
  {
   "cell_type": "code",
   "execution_count": 16,
   "id": "3a85e372",
   "metadata": {},
   "outputs": [
    {
     "name": "stdout",
     "output_type": "stream",
     "text": [
      "Enter the number for factorial5\n",
      "120\n"
     ]
    }
   ],
   "source": [
    "def factorial(n):\n",
    "    if n == 0:\n",
    "        return 1\n",
    "    else:\n",
    "        return n * factorial (n - 1)\n",
    "\n",
    "\n",
    "number = int(input(\"Enter the number for factorial\"))\n",
    "res = factorial(number)\n",
    "print(res)\n"
   ]
  },
  {
   "cell_type": "markdown",
   "id": "d568d69b",
   "metadata": {},
   "source": [
    "# 9.Python function for generating the Fibonacci series using the function"
   ]
  },
  {
   "cell_type": "code",
   "execution_count": 19,
   "id": "0334b75c",
   "metadata": {},
   "outputs": [
    {
     "name": "stdout",
     "output_type": "stream",
     "text": [
      "Enter the number5\n",
      "[0, 1, 1, 2, 3]\n"
     ]
    }
   ],
   "source": [
    "def fibonacci(n):\n",
    "    if n <= 0:\n",
    "        return []\n",
    "    elif n == 1:\n",
    "        return [0]\n",
    "    elif n == 2:\n",
    "        return [0, 1]\n",
    "    else:\n",
    "        a, b = 0, 1\n",
    "        list=[]\n",
    "        for _ in range(n):\n",
    "            list.append(a)\n",
    "            a, b = b, a + b\n",
    "        return list\n",
    "\n",
    "n = int(input(\"Enter the number\"))\n",
    "fib_series = fibonacci_recursive(n)\n",
    "print(fib_series)\n"
   ]
  },
  {
   "cell_type": "markdown",
   "id": "e2f5c42a",
   "metadata": {},
   "source": [
    "# 10. Python program to display the given integer in reverse order using the function without an in-built function"
   ]
  },
  {
   "cell_type": "code",
   "execution_count": 26,
   "id": "531bc83b",
   "metadata": {},
   "outputs": [
    {
     "name": "stdout",
     "output_type": "stream",
     "text": [
      "The reversed number of 12345 is: 54321\n"
     ]
    }
   ],
   "source": [
    "def reverseInteger(n):\n",
    "    reversedStr= str(n)[::-1]\n",
    "    reversedInt = int(reversedStr)\n",
    "    return reversedInt\n",
    "\n",
    "inputnumber = 12345\n",
    "reversed_number = reverseInteger(inputnumber)\n",
    "print(f\"The reversed number of {inputnumber} is: {reversed_number}\")"
   ]
  },
  {
   "cell_type": "markdown",
   "id": "e716ff62",
   "metadata": {},
   "source": [
    "# 11. Write a Python Function to display all integers within the range 200-300 whose sum of digits is an even number"
   ]
  },
  {
   "cell_type": "code",
   "execution_count": 33,
   "id": "2d13edbc",
   "metadata": {},
   "outputs": [
    {
     "name": "stdout",
     "output_type": "stream",
     "text": [
      "Integers in the range 200-300 with even digit sum:\n",
      "[200, 202, 204, 206, 208, 211, 213, 215, 217, 219, 220, 222, 224, 226, 228, 231, 233, 235, 237, 239, 240, 242, 244, 246, 248, 251, 253, 255, 257, 259, 260, 262, 264, 266, 268, 271, 273, 275, 277, 279, 280, 282, 284, 286, 288, 291, 293, 295, 297, 299]\n"
     ]
    }
   ],
   "source": [
    "def res_Sum(num):\n",
    "    sum=0\n",
    "    while(num>0):\n",
    "        a=num%10\n",
    "        sum+=a\n",
    "        num=num//10\n",
    "    if(sum%2==0):\n",
    "        return sum\n",
    "\n",
    "def findIntegers(start, end):\n",
    "    result = []\n",
    "    for num in range(start, end + 1):\n",
    "        if res_Sum(num):\n",
    "            result.append(num)\n",
    "    return result\n",
    "\n",
    "# Example usage:\n",
    "start_range = 200\n",
    "end_range = 300\n",
    "Numbers = findIntegers(start_range, end_range)\n",
    "print(\"Integers in the range 200-300 with even digit sum:\")\n",
    "print(Numbers)\n"
   ]
  },
  {
   "cell_type": "markdown",
   "id": "e311b76c",
   "metadata": {},
   "source": [
    "# 12. Write a Python Function to find the number of a=digits and sum of digits for a given number"
   ]
  },
  {
   "cell_type": "code",
   "execution_count": 36,
   "id": "5ce23414",
   "metadata": {},
   "outputs": [
    {
     "name": "stdout",
     "output_type": "stream",
     "text": [
      "Enter the number to count the digits and its sum15466\n",
      "Number of digits in 15466: 5\n",
      "Sum of digits in 15466: 22\n"
     ]
    }
   ],
   "source": [
    "def count_and_sum_digits(number):\n",
    "    count = 0\n",
    "    digit_sum = 0\n",
    "    number = abs(number)\n",
    "\n",
    "    while number > 0:\n",
    "        digit = number % 10\n",
    "        count += 1           \n",
    "        digit_sum += digit   \n",
    "        number //= 10        \n",
    "\n",
    "    return count, digit_sum\n",
    "number=int(input(\"Enter the number to count the digits and its sum\"))\n",
    "num_digits, sum_of_digits = count_and_sum_digits(number)\n",
    "print(f\"Number of digits in {number}: {num_digits}\")\n",
    "print(f\"Sum of digits in {number}: {sum_of_digits}\")"
   ]
  },
  {
   "cell_type": "markdown",
   "id": "78884936",
   "metadata": {},
   "source": [
    "# 13.Write functions called is _sorted that takes a list as a parameter and returns True if the list is sorted in ascending order and False otherwise abnd has duplicates that takes a list and returns True if there is any element that appears more than once.It should not modify the original list"
   ]
  },
  {
   "cell_type": "code",
   "execution_count": 38,
   "id": "9de84a18",
   "metadata": {},
   "outputs": [
    {
     "name": "stdout",
     "output_type": "stream",
     "text": [
      "[1, 2, 3, 4, 5]->Sorted is  True\n",
      " [5, 2, 1, 4, 3] ->Sorted is False\n"
     ]
    }
   ],
   "source": [
    "def is_sorted(arr):\n",
    "    return all(arr[i] <= arr[i + 1] for i in range(len(arr) - 1))\n",
    "sorted_list = [1, 2, 3, 4, 5]\n",
    "unsorted_list = [5, 2, 1, 4, 3]\n",
    "\n",
    "print(f\"{sorted_list}->Sorted is  {is_sorted(sorted_list)}\")\n",
    "print(f\" {unsorted_list} ->Sorted is {is_sorted(unsorted_list)}\")"
   ]
  },
  {
   "cell_type": "code",
   "execution_count": 40,
   "id": "e8ea633c",
   "metadata": {},
   "outputs": [
    {
     "name": "stdout",
     "output_type": "stream",
     "text": [
      "Does [1, 2, 2, 3, 4, 5] have duplicates->True\n",
      "Does [1, 2, 3, 4, 5] have duplicates-> False\n"
     ]
    }
   ],
   "source": [
    "def has_duplicates(arr):\n",
    "    seen = set()\n",
    "    for item in arr:\n",
    "        if item in seen:\n",
    "            return True\n",
    "        seen.add(item)\n",
    "    return False\n",
    "list_with_duplicates = [1, 2, 2, 3, 4, 5]\n",
    "list_without_duplicates = [1, 2, 3, 4, 5]\n",
    "\n",
    "print(f\"Does {list_with_duplicates} have duplicates->{has_duplicates(list_with_duplicates)}\")\n",
    "print(f\"Does {list_without_duplicates} have duplicates-> {has_duplicates(list_without_duplicates)}\")"
   ]
  },
  {
   "cell_type": "markdown",
   "id": "b6af26e9",
   "metadata": {},
   "source": [
    "# 14.Write functions called nested_sum that takes a list of integers and adds up the elements from all the nested lists and cumsum that takes a list of numbers and returns the cumulative sum; that is, a new list where the ith element is the sum of the first i+1 elements from the original list"
   ]
  },
  {
   "cell_type": "code",
   "execution_count": 46,
   "id": "ecdbbcd0",
   "metadata": {},
   "outputs": [
    {
     "name": "stdout",
     "output_type": "stream",
     "text": [
      "Sum of elements in nested list: 36\n"
     ]
    }
   ],
   "source": [
    "def nested(lst):\n",
    "    total = 0\n",
    "    for sub_list in lst:\n",
    "        answe=0\n",
    "        for num in sub_list:\n",
    "            answe+=num\n",
    "        total += answe\n",
    "    return total\n",
    "\n",
    "# Example usage:\n",
    "nestedList = [[1, 2, 3], [4, 5], [6, 7, 8]]\n",
    "result = nested(nestedList)\n",
    "print(f\"Sum of elements in nested list: {result}\")\n"
   ]
  },
  {
   "cell_type": "code",
   "execution_count": 48,
   "id": "2774cc4f",
   "metadata": {},
   "outputs": [
    {
     "name": "stdout",
     "output_type": "stream",
     "text": [
      "Cumulative sum of [1, 2, 3, 4, 5]: [1, 3, 6, 10, 15]\n"
     ]
    }
   ],
   "source": [
    "def cumsum(numbers):\n",
    "    cumulative= []\n",
    "    currentSum = 0\n",
    "    for num in numbers:\n",
    "        currentSum += num\n",
    "        cumulative.append(currentSum)\n",
    "    return cumulative\n",
    "\n",
    "number = [1, 2, 3, 4, 5]\n",
    "result = cumsum(number)\n",
    "print(f\"Cumulative sum of {number}: {result}\")\n"
   ]
  },
  {
   "cell_type": "code",
   "execution_count": null,
   "id": "e6cc06e1",
   "metadata": {},
   "outputs": [],
   "source": []
  }
 ],
 "metadata": {
  "kernelspec": {
   "display_name": "Python 3 (ipykernel)",
   "language": "python",
   "name": "python3"
  },
  "language_info": {
   "codemirror_mode": {
    "name": "ipython",
    "version": 3
   },
   "file_extension": ".py",
   "mimetype": "text/x-python",
   "name": "python",
   "nbconvert_exporter": "python",
   "pygments_lexer": "ipython3",
   "version": "3.11.4"
  }
 },
 "nbformat": 4,
 "nbformat_minor": 5
}
