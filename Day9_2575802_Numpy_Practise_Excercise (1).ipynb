{
 "cells": [
  {
   "cell_type": "markdown",
   "id": "29819da7",
   "metadata": {},
   "source": [
    "# 1.Create a 3x3x3 array with random values using numpy\n",
    "\n"
   ]
  },
  {
   "cell_type": "code",
   "execution_count": 2,
   "id": "50da3afb",
   "metadata": {},
   "outputs": [
    {
     "name": "stdout",
     "output_type": "stream",
     "text": [
      "[[[0.84347875 0.64687224 0.4855029 ]\n",
      "  [0.53681377 0.55323906 0.41506307]\n",
      "  [0.91586327 0.26956409 0.02725277]]\n",
      "\n",
      " [[0.21461901 0.48895243 0.68162705]\n",
      "  [0.13489498 0.86391498 0.89144177]\n",
      "  [0.2419395  0.63497217 0.76230179]]\n",
      "\n",
      " [[0.86449786 0.81601202 0.69035884]\n",
      "  [0.50795872 0.89698658 0.88805166]\n",
      "  [0.08797857 0.73043688 0.49294838]]]\n"
     ]
    }
   ],
   "source": [
    "import numpy as np\n",
    "\n",
    "random_array = np.random.rand(3, 3, 3)\n",
    "\n",
    "print(random_array)"
   ]
  },
  {
   "cell_type": "markdown",
   "id": "4740e23c",
   "metadata": {},
   "source": [
    "# 2.You can create a 5x5 matrix with values 1, 2, 3, and 4 just below the diagonal using NumPy like this:"
   ]
  },
  {
   "cell_type": "code",
   "execution_count": 4,
   "id": "3ae260ff",
   "metadata": {},
   "outputs": [
    {
     "name": "stdout",
     "output_type": "stream",
     "text": [
      "[[0 0 0 0 0]\n",
      " [1 0 0 0 0]\n",
      " [0 2 0 0 0]\n",
      " [0 0 3 0 0]\n",
      " [0 0 0 4 0]]\n"
     ]
    }
   ],
   "source": [
    "matrix = np.zeros((5, 5), dtype=int)\n",
    "\n",
    "values = [1, 2, 3, 4]\n",
    "np.fill_diagonal(matrix[1:], values)\n",
    "\n",
    "print(matrix)\n"
   ]
  },
  {
   "cell_type": "markdown",
   "id": "ff47fe19",
   "metadata": {},
   "source": [
    "# 3.Create a 8*8 matrix and fill it with a checkboard pattern"
   ]
  },
  {
   "cell_type": "code",
   "execution_count": 7,
   "id": "187643fa",
   "metadata": {},
   "outputs": [
    {
     "name": "stdout",
     "output_type": "stream",
     "text": [
      "[[1 0 1 0 1 0 1 0]\n",
      " [0 1 0 1 0 1 0 1]\n",
      " [1 0 1 0 1 0 1 0]\n",
      " [0 1 0 1 0 1 0 1]\n",
      " [1 0 1 0 1 0 1 0]\n",
      " [0 1 0 1 0 1 0 1]\n",
      " [1 0 1 0 1 0 1 0]\n",
      " [0 1 0 1 0 1 0 1]]\n"
     ]
    }
   ],
   "source": [
    "import numpy as np\n",
    "\n",
    "matrix = np.zeros((8, 8), dtype=int)\n",
    "\n",
    "matrix[::2, ::2] = 1\n",
    "matrix[1::2, 1::2] = 1\n",
    "\n",
    "print(matrix)"
   ]
  },
  {
   "cell_type": "markdown",
   "id": "e0444669",
   "metadata": {},
   "source": [
    "# 4.Normalize a 5*5 random matrix using numpy"
   ]
  },
  {
   "cell_type": "code",
   "execution_count": 8,
   "id": "2e53bd58",
   "metadata": {},
   "outputs": [
    {
     "name": "stdout",
     "output_type": "stream",
     "text": [
      "Original Matrix:\n",
      "[[0.1481688  0.37200513 0.9186449  0.51259259 0.63538847]\n",
      " [0.95644211 0.61552743 0.37857761 0.26930341 0.26841994]\n",
      " [0.93267673 0.86729593 0.00228944 0.94565915 0.70147182]\n",
      " [0.00842645 0.51720544 0.7725248  0.52648339 0.48298083]\n",
      " [0.3004581  0.21778638 0.59649803 0.70852077 0.24850065]]\n",
      "\n",
      "Normalized Matrix:\n",
      "[[-1.29060633 -0.50556216  1.41162601 -0.01249043  0.41818224]\n",
      " [ 1.54418932  0.34852511 -0.48251099 -0.86576011 -0.86885863]\n",
      " [ 1.46083881  1.23153368 -1.80223793  1.50637105  0.64995137]\n",
      " [-1.78071405  0.00368789  0.89915009  0.03622772 -0.11634549]\n",
      " [-0.75649362 -1.04644187  0.28178477  0.67467361 -0.93872005]]\n"
     ]
    }
   ],
   "source": [
    "import numpy as np\n",
    "\n",
    "random = np.random.rand(5, 5)\n",
    "\n",
    "Mean = np.mean(random)\n",
    "Std = np.std(random)\n",
    "\n",
    "normalized_matrix = (random - Mean) / Std\n",
    "\n",
    "print(\"Original Matrix:\")\n",
    "print(random)\n",
    "\n",
    "print(\"\\nNormalized Matrix:\")\n",
    "print(normalized_matrix)\n"
   ]
  },
  {
   "cell_type": "markdown",
   "id": "fdfe54a2",
   "metadata": {},
   "source": [
    "# 5. How to find common values between two arrays"
   ]
  },
  {
   "cell_type": "code",
   "execution_count": 11,
   "id": "e14266c9",
   "metadata": {},
   "outputs": [
    {
     "name": "stdout",
     "output_type": "stream",
     "text": [
      "[1]\n"
     ]
    }
   ],
   "source": [
    "array1 = np.array([7, 2, 1, 14, 5])\n",
    "array2 = np.array([9, 4, 9, 6, 1])\n",
    "\n",
    "common_values = np.intersect1d(array1, array2)\n",
    "print(common_values)"
   ]
  },
  {
   "cell_type": "markdown",
   "id": "75d0e9dc",
   "metadata": {},
   "source": [
    "# 6. How to get the dates of yestreday, today and tomorrow"
   ]
  },
  {
   "cell_type": "code",
   "execution_count": 12,
   "id": "64f89b13",
   "metadata": {},
   "outputs": [
    {
     "name": "stdout",
     "output_type": "stream",
     "text": [
      "Yesterday: 2023-09-20\n",
      "Today: 2023-09-21\n",
      "Tomorrow: 2023-09-22\n"
     ]
    }
   ],
   "source": [
    "from datetime import datetime, timedelta\n",
    "\n",
    "today = datetime.now().date()\n",
    "\n",
    "yesterday = today - timedelta(days=1)\n",
    "tomorrow = today + timedelta(days=1)\n",
    "\n",
    "print(\"Yesterday:\", yesterday)\n",
    "print(\"Today:\", today)\n",
    "print(\"Tomorrow:\", tomorrow)\n"
   ]
  },
  {
   "cell_type": "markdown",
   "id": "6f58bbe3",
   "metadata": {},
   "source": [
    "# 7. Consider two random array A and B, check if they are equal"
   ]
  },
  {
   "cell_type": "code",
   "execution_count": 13,
   "id": "f4a329e1",
   "metadata": {},
   "outputs": [
    {
     "name": "stdout",
     "output_type": "stream",
     "text": [
      "Arrays A and B are not equal\n"
     ]
    }
   ],
   "source": [
    "import numpy as np\n",
    "\n",
    "A = np.random.rand(5)\n",
    "B = np.random.rand(5)\n",
    "\n",
    "if np.array_equal(A, B):\n",
    "    print(\"Arrays A and B are equal\")\n",
    "else:\n",
    "    print(\"Arrays A and B are not equal\")\n"
   ]
  },
  {
   "cell_type": "markdown",
   "id": "eba06f3b",
   "metadata": {},
   "source": [
    "# 8. Create random vector of size 10 and replace the minimum value nby zero using numpy"
   ]
  },
  {
   "cell_type": "code",
   "execution_count": 17,
   "id": "4639f031",
   "metadata": {},
   "outputs": [
    {
     "name": "stdout",
     "output_type": "stream",
     "text": [
      "Random Vector with Minimum Value Replaced: [0.58646723 0.88794572 0.38477633 0.         0.82781984 0.10403034\n",
      " 0.18864928 0.05661105 0.60943035 0.99904938]\n"
     ]
    }
   ],
   "source": [
    "import numpy as np\n",
    "\n",
    "random_vector = np.random.rand(10)\n",
    "min_index = np.argmin(random_vector)\n",
    "\n",
    "random_vector[min_index] = 0\n",
    "\n",
    "print(\"Random Vector with Minimum Value Replaced:\", random_vector)\n"
   ]
  },
  {
   "cell_type": "markdown",
   "id": "7db1310e",
   "metadata": {},
   "source": [
    "# 9.How to print all the values of an array using numpy"
   ]
  },
  {
   "cell_type": "code",
   "execution_count": 19,
   "id": "ad2cbf70",
   "metadata": {},
   "outputs": [
    {
     "name": "stdout",
     "output_type": "stream",
     "text": [
      "1 2 3 4 5 "
     ]
    }
   ],
   "source": [
    "import numpy as np\n",
    "\n",
    "my_array = np.array([1, 2, 3, 4, 5])\n",
    "\n",
    "for i in my_array:\n",
    "    print(i, end=\" \")\n"
   ]
  },
  {
   "cell_type": "markdown",
   "id": "c10e5857",
   "metadata": {},
   "source": [
    "# 10. Subtract the mean of each row of a matrix"
   ]
  },
  {
   "cell_type": "code",
   "execution_count": 22,
   "id": "3b2503d7",
   "metadata": {},
   "outputs": [
    {
     "name": "stdout",
     "output_type": "stream",
     "text": [
      "Matrix:\n",
      "[[1 2 3]\n",
      " [4 5 6]\n",
      " [7 8 9]]\n",
      "\n",
      "Matrix with Row Means Subtracted:\n",
      "[[-1.  0.  1.]\n",
      " [-1.  0.  1.]\n",
      " [-1.  0.  1.]]\n"
     ]
    }
   ],
   "source": [
    "import numpy as np\n",
    "\n",
    "matrix = np.array([[1, 2, 3],\n",
    "                  [4, 5, 6],\n",
    "                  [7, 8, 9]])\n",
    "\n",
    "row_means = np.mean(matrix, axis=1)\n",
    "\n",
    "result_matrix = matrix - row_means.reshape(-1, 1)\n",
    "\n",
    "print(\"Matrix:\")\n",
    "print(matrix)\n",
    "\n",
    "print(\"\\nMatrix with Row Means Subtracted:\")\n",
    "print(result_matrix)\n"
   ]
  },
  {
   "cell_type": "markdown",
   "id": "2b6803ae",
   "metadata": {},
   "source": [
    "# 11. Consider a given vector, how to add 1 to each  element indexed by a second vector (be careful with repeated indices)?"
   ]
  },
  {
   "cell_type": "code",
   "execution_count": 23,
   "id": "ee380ac1",
   "metadata": {},
   "outputs": [
    {
     "name": "stdout",
     "output_type": "stream",
     "text": [
      "Given Vector: [1 2 3 4 5]\n",
      "Index Vector: [1 3 3 0 4]\n",
      "Result Vector: [5 2 0 6 6]\n"
     ]
    }
   ],
   "source": [
    "import numpy as np\n",
    "\n",
    "given_vector = np.array([1, 2, 3, 4, 5])\n",
    "\n",
    "index_vector = np.array([1, 3, 3, 0, 4])\n",
    "\n",
    "result_vector = np.zeros_like(given_vector)\n",
    "\n",
    "unique_indices = np.unique(index_vector)\n",
    "for idx in unique_indices:\n",
    "    result_vector[idx] = np.sum(given_vector[index_vector == idx]) + 1\n",
    "\n",
    "print(\"Given Vector:\", given_vector)\n",
    "print(\"Index Vector:\", index_vector)\n",
    "print(\"Result Vector:\", result_vector)\n"
   ]
  },
  {
   "cell_type": "markdown",
   "id": "3bab66a2",
   "metadata": {},
   "source": [
    "# 12.How to get the disgonal of dot product using numpy"
   ]
  },
  {
   "cell_type": "code",
   "execution_count": 25,
   "id": "6bf1269b",
   "metadata": {},
   "outputs": [
    {
     "name": "stdout",
     "output_type": "stream",
     "text": [
      "Dot Product:\n",
      "[[ 25  58  68]\n",
      " [ 64 139 164]\n",
      " [103 220 260]]\n",
      "\n",
      "Diagonal Elements:\n",
      "[ 25 139 260]\n"
     ]
    }
   ],
   "source": [
    "import numpy as np\n",
    "\n",
    "matrix1 = np.array([[1, 2, 3],\n",
    "                    [4, 5, 6],\n",
    "                    [7, 8, 9]])\n",
    "\n",
    "matrix2 = np.array([[4, 8, 7],\n",
    "                    [6, 7, 14],\n",
    "                    [3, 12, 11]])\n",
    "\n",
    "dot_product = np.dot(matrix1, matrix2)\n",
    "\n",
    "diagonal_elements = np.diag(dot_product)\n",
    "\n",
    "print(\"Dot Product:\")\n",
    "print(dot_product)\n",
    "\n",
    "print(\"\\nDiagonal Elements:\")\n",
    "print(diagonal_elements)\n"
   ]
  },
  {
   "cell_type": "markdown",
   "id": "78b9c5a9",
   "metadata": {},
   "source": [
    "# 13. How to find the most frequent value in an array?"
   ]
  },
  {
   "cell_type": "code",
   "execution_count": 27,
   "id": "97bd754c",
   "metadata": {},
   "outputs": [
    {
     "name": "stdout",
     "output_type": "stream",
     "text": [
      "Array:\n",
      "[3 9 3 6 8 5 3 6 2 9 3 0 7 0 8 0 1 3 8 7 7 8 8 6 2 9 1 1 4 2 0 1 1 0 9 2 0\n",
      " 3 7 4 9 8 0 7 2 0 3 3 9 3]\n",
      "\n",
      "Most frequent value: 3\n"
     ]
    }
   ],
   "source": [
    "import numpy as np\n",
    "\n",
    "x = np.random.randint(0, 10, 50)\n",
    "\n",
    "frequent_value = np.bincount(x).argmax()\n",
    "\n",
    "print(\"Array:\")\n",
    "print(x)\n",
    "print(\"\\nMost frequent value:\", frequent_value)\n"
   ]
  },
  {
   "cell_type": "markdown",
   "id": "e592e585",
   "metadata": {},
   "source": [
    "# 14. How to get the n largest values of an array"
   ]
  },
  {
   "cell_type": "code",
   "execution_count": 31,
   "id": "85c8c8ac",
   "metadata": {},
   "outputs": [
    {
     "name": "stdout",
     "output_type": "stream",
     "text": [
      "Enter the n largest values You want in an array4\n",
      "Original Array: [ 3  1  4  1 15  9  2  6  5  3 25]\n",
      "4 Largest Values: [ 6  9 15 25]\n"
     ]
    }
   ],
   "source": [
    "import numpy as np\n",
    "\n",
    "arr = np.array([3, 1, 4, 1, 15, 9, 2, 6, 5, 3, 25])\n",
    "\n",
    "n = int(input(\"Enter the n largest values You want in an array\"))\n",
    "largest_values = np.sort(arr)[-n:]\n",
    "\n",
    "print(\"Original Array:\", arr)\n",
    "\n",
    "print(f\"{n} Largest Values:\", largest_values)\n"
   ]
  },
  {
   "cell_type": "markdown",
   "id": "6f62a717",
   "metadata": {},
   "source": [
    "# 15. How to create a record array from a regular array"
   ]
  },
  {
   "cell_type": "code",
   "execution_count": 37,
   "id": "4db0ad9d",
   "metadata": {},
   "outputs": [
    {
     "name": "stdout",
     "output_type": "stream",
     "text": [
      "[(111, 25, 100000) (222, 30, 300000) (333, 22, 160000)]\n",
      "\n",
      "IDs: [111 222 333]\n",
      "Ages: [25 30 22]\n",
      "Salary: [100000 300000 160000]\n"
     ]
    }
   ],
   "source": [
    "import numpy as np\n",
    "\n",
    "regular_array = np.array([(111, 25, 100000),\n",
    "                          (222, 30, 300000),\n",
    "                          (333, 22, 160000)])\n",
    "\n",
    "field_names = [\"ID\",\"Age\",\"Salary\"]\n",
    "\n",
    "record_array = np.rec.fromarrays(regular_array.T, names=field_names)\n",
    "\n",
    "print(record_array)\n",
    "\n",
    "\n",
    "print(\"\\nIDs:\", record_array[\"ID\"])\n",
    "print(\"Ages:\", record_array[\"Age\"])\n",
    "print(\"Salary:\", record_array[\"Salary\"])\n"
   ]
  },
  {
   "cell_type": "markdown",
   "id": "651b01ef",
   "metadata": {},
   "source": [
    "# 16. How to swap two rows of an array?"
   ]
  },
  {
   "cell_type": "code",
   "execution_count": 40,
   "id": "af8f6887",
   "metadata": {},
   "outputs": [
    {
     "name": "stdout",
     "output_type": "stream",
     "text": [
      "Original_Array\n",
      "[[1 2 3]\n",
      " [4 5 6]\n",
      " [7 8 9]]\n",
      "Row Changed Array:\n",
      "[[7 8 9]\n",
      " [4 5 6]\n",
      " [1 2 3]]\n"
     ]
    }
   ],
   "source": [
    "import numpy as np\n",
    "\n",
    "array = np.array([[1, 2, 3],\n",
    "                  [4, 5, 6],\n",
    "                  [7, 8, 9]])\n",
    "print(\"Original_Array\")\n",
    "print(array)\n",
    "\n",
    "row1_index = 0  \n",
    "row2_index = 2\n",
    "\n",
    "array[[row1_index, row2_index]] = array[[row2_index, row1_index]]\n",
    "\n",
    "print(\"Row Changed Array:\")\n",
    "print(array)\n"
   ]
  },
  {
   "cell_type": "markdown",
   "id": "def02711",
   "metadata": {},
   "source": [
    "# 17. Write python code to reshape to the next dimension of numpy array"
   ]
  },
  {
   "cell_type": "code",
   "execution_count": 44,
   "id": "d87098b3",
   "metadata": {},
   "outputs": [
    {
     "data": {
      "text/plain": [
       "array([[[ 23],\n",
       "        [ 34],\n",
       "        [121]],\n",
       "\n",
       "       [[ 23],\n",
       "        [ 22],\n",
       "        [ 67]],\n",
       "\n",
       "       [[686],\n",
       "        [434],\n",
       "        [123]]])"
      ]
     },
     "execution_count": 44,
     "metadata": {},
     "output_type": "execute_result"
    }
   ],
   "source": [
    "from numpy import array\n",
    "\n",
    "Array=array([[23,34,121],[23,22,67],[686,434,123]])\n",
    "reshaped_array=Array.reshape((Array.shape[0],Array.shape[1],1))\n",
    "reshaped_array"
   ]
  },
  {
   "cell_type": "markdown",
   "id": "77b7ae3d",
   "metadata": {},
   "source": [
    "# Dataset Mini Case Study problems"
   ]
  },
  {
   "cell_type": "code",
   "execution_count": 3,
   "id": "79df9957",
   "metadata": {},
   "outputs": [],
   "source": [
    "np_olympic_country = np.array(['GBR', 'China', 'RUS', 'US', 'KOR', 'JPN', 'GER'])\n",
    "np_olympic_country_gold = np.array([29, 38, 24, 46, 13, 7, 11])\n",
    "np_olympic_country_silver = np.array([17, 28, 25, 28, 8, 14, 11])\n",
    "np_olympic_country_bronze = np.array([19, 22, 32, 29, 7, 17, 14])"
   ]
  },
  {
   "cell_type": "code",
   "execution_count": 5,
   "id": "4b224605",
   "metadata": {},
   "outputs": [
    {
     "name": "stdout",
     "output_type": "stream",
     "text": [
      "Country with Maximum Gold: US\n"
     ]
    }
   ],
   "source": [
    "# Find the index of the maximum gold\n",
    "max_gold_index = np.argmax(np_olympic_country_gold)\n",
    "print(\"Country with Maximum Gold:\", np_olympic_country[max_gold_index])\n"
   ]
  },
  {
   "cell_type": "code",
   "execution_count": 9,
   "id": "462fbfba",
   "metadata": {},
   "outputs": [
    {
     "name": "stdout",
     "output_type": "stream",
     "text": [
      "Countries with more than 20 Gold Medals: ['GBR' 'China' 'RUS' 'US']\n"
     ]
    }
   ],
   "source": [
    "# Find countries with more than 20 gold medals\n",
    "countries_with_more_than_20_gold = np_olympic_country[np_olympic_country_gold > 20]\n",
    "print(\"Countries with more than 20 Gold Medals:\", countries_with_more_than_20_gold)\n"
   ]
  },
  {
   "cell_type": "code",
   "execution_count": null,
   "id": "9424e13e",
   "metadata": {},
   "outputs": [],
   "source": [
    "# Evaluate the dataset and print the medal information"
   ]
  },
  {
   "cell_type": "code",
   "execution_count": 7,
   "id": "0a23a18c",
   "metadata": {},
   "outputs": [
    {
     "name": "stdout",
     "output_type": "stream",
     "text": [
      "GBR - Gold Medals: 29\n",
      "China - Gold Medals: 38\n",
      "RUS - Gold Medals: 24\n",
      "US - Gold Medals: 46\n",
      "KOR - Gold Medals: 13\n",
      "JPN - Gold Medals: 7\n",
      "GER - Gold Medals: 11\n"
     ]
    }
   ],
   "source": [
    "for i in range(len(np_olympic_country)):\n",
    "    print(f\"{np_olympic_country[i]} - Gold Medals: {np_olympic_country_gold[i]}\")"
   ]
  },
  {
   "cell_type": "code",
   "execution_count": 8,
   "id": "c6cefe7d",
   "metadata": {},
   "outputs": [
    {
     "name": "stdout",
     "output_type": "stream",
     "text": [
      "GBR - Total Medals: 65\n",
      "China - Total Medals: 88\n",
      "RUS - Total Medals: 81\n",
      "US - Total Medals: 103\n",
      "KOR - Total Medals: 28\n",
      "JPN - Total Medals: 38\n",
      "GER - Total Medals: 36\n"
     ]
    }
   ],
   "source": [
    "total_medals = np_olympic_country_gold + np_olympic_country_silver + np_olympic_country_bronze\n",
    "for i in range(len(np_olympic_country)):\n",
    "    print(f\"{np_olympic_country[i]} - Total Medals: {total_medals[i]}\")"
   ]
  }
 ],
 "metadata": {
  "kernelspec": {
   "display_name": "Python 3 (ipykernel)",
   "language": "python",
   "name": "python3"
  },
  "language_info": {
   "codemirror_mode": {
    "name": "ipython",
    "version": 3
   },
   "file_extension": ".py",
   "mimetype": "text/x-python",
   "name": "python",
   "nbconvert_exporter": "python",
   "pygments_lexer": "ipython3",
   "version": "3.11.4"
  }
 },
 "nbformat": 4,
 "nbformat_minor": 5
}
