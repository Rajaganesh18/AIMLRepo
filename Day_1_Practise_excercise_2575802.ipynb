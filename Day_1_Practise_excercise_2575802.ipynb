{
 "cells": [
  {
   "cell_type": "markdown",
   "id": "ef2e746c",
   "metadata": {},
   "source": [
    "# 1.Manipulate using a list"
   ]
  },
  {
   "cell_type": "code",
   "execution_count": null,
   "id": "c75f7a75",
   "metadata": {},
   "outputs": [],
   "source": [
    "#1. To add new elemenets to the end of the list"
   ]
  },
  {
   "cell_type": "code",
   "execution_count": 3,
   "id": "132e3688",
   "metadata": {},
   "outputs": [
    {
     "data": {
      "text/plain": [
       "['python', 123, 'ml', 6.12, 'ai', 'Mphasis_learning']"
      ]
     },
     "execution_count": 3,
     "metadata": {},
     "output_type": "execute_result"
    }
   ],
   "source": [
    "lst=[\"python\",123,\"ml\",6.12,'ai']\n",
    "lst.append(\"Mphasis_learning\")\n",
    "lst"
   ]
  },
  {
   "cell_type": "code",
   "execution_count": null,
   "id": "7a00edde",
   "metadata": {},
   "outputs": [],
   "source": [
    "#2.To reverse the elements in the list"
   ]
  },
  {
   "cell_type": "code",
   "execution_count": 4,
   "id": "004e26b9",
   "metadata": {},
   "outputs": [
    {
     "data": {
      "text/plain": [
       "['Mphasis_learning', 'ai', 6.12, 'ml', 123, 'python']"
      ]
     },
     "execution_count": 4,
     "metadata": {},
     "output_type": "execute_result"
    }
   ],
   "source": [
    "lst.reverse()\n",
    "lst"
   ]
  },
  {
   "cell_type": "code",
   "execution_count": null,
   "id": "a3b3bfe6",
   "metadata": {},
   "outputs": [],
   "source": [
    "#3.To display  the same list of elements multiple times"
   ]
  },
  {
   "cell_type": "code",
   "execution_count": 5,
   "id": "ce70d126",
   "metadata": {},
   "outputs": [
    {
     "name": "stdout",
     "output_type": "stream",
     "text": [
      "Enter the number of times to display the element4\n",
      "['Mphasis_learning', 'ai', 6.12, 'ml', 123, 'python']\n",
      "['Mphasis_learning', 'ai', 6.12, 'ml', 123, 'python']\n",
      "['Mphasis_learning', 'ai', 6.12, 'ml', 123, 'python']\n",
      "['Mphasis_learning', 'ai', 6.12, 'ml', 123, 'python']\n"
     ]
    }
   ],
   "source": [
    "timesToDisplay=int(input(\"Enter the number of times to display the element\"))\n",
    "for _ in range(timesToDisplay):\n",
    "    print(lst)"
   ]
  },
  {
   "cell_type": "code",
   "execution_count": null,
   "id": "d5e13cdd",
   "metadata": {},
   "outputs": [],
   "source": [
    "#4. To concatenate the two list "
   ]
  },
  {
   "cell_type": "code",
   "execution_count": 6,
   "id": "dea712f8",
   "metadata": {},
   "outputs": [
    {
     "data": {
      "text/plain": [
       "[1, 2, 3, 4, 7, 8, 9, 0]"
      ]
     },
     "execution_count": 6,
     "metadata": {},
     "output_type": "execute_result"
    }
   ],
   "source": [
    "list1=[1,2,3,4]\n",
    "list2=[7,8,9,0]\n",
    "list1.extend(list2)\n",
    "list1"
   ]
  },
  {
   "cell_type": "code",
   "execution_count": null,
   "id": "a85430bd",
   "metadata": {},
   "outputs": [],
   "source": [
    "#5. To sort the elements in the list in ascending order"
   ]
  },
  {
   "cell_type": "code",
   "execution_count": 7,
   "id": "9296c0b8",
   "metadata": {},
   "outputs": [
    {
     "data": {
      "text/plain": [
       "[1, 3, 5, 6, 33, 54, 100]"
      ]
     },
     "execution_count": 7,
     "metadata": {},
     "output_type": "execute_result"
    }
   ],
   "source": [
    "list3=[5,6,1,3,100,54,33]\n",
    "list3.sort()\n",
    "list3"
   ]
  },
  {
   "cell_type": "markdown",
   "id": "90a2b79b",
   "metadata": {},
   "source": [
    "# 2. Python Program to do in the tuples"
   ]
  },
  {
   "cell_type": "code",
   "execution_count": null,
   "id": "b5612481",
   "metadata": {},
   "outputs": [],
   "source": [
    "# 2. To add new elements to the end of the tuple"
   ]
  },
  {
   "cell_type": "code",
   "execution_count": null,
   "id": "44beadaa",
   "metadata": {},
   "outputs": [],
   "source": [
    "Tuples in python are immutable which means you can add the elements directly."
   ]
  },
  {
   "cell_type": "code",
   "execution_count": null,
   "id": "b2356674",
   "metadata": {},
   "outputs": [],
   "source": [
    "# 3. To reverse the elements in tuple"
   ]
  },
  {
   "cell_type": "code",
   "execution_count": 8,
   "id": "22b4cd63",
   "metadata": {},
   "outputs": [
    {
     "name": "stdout",
     "output_type": "stream",
     "text": [
      "(90, 34, 12, 84, 76)\n"
     ]
    }
   ],
   "source": [
    "tuple1=(76,84,12,34,90)\n",
    "print(tuple1[::-1])"
   ]
  },
  {
   "cell_type": "code",
   "execution_count": null,
   "id": "d05352f7",
   "metadata": {},
   "outputs": [],
   "source": [
    "#4.  To display  the elements of same tuple multiple times"
   ]
  },
  {
   "cell_type": "code",
   "execution_count": 9,
   "id": "36bb216e",
   "metadata": {},
   "outputs": [
    {
     "name": "stdout",
     "output_type": "stream",
     "text": [
      "Enter the number of times to display the element4\n",
      "(76, 84, 12, 34, 90)\n",
      "(76, 84, 12, 34, 90)\n",
      "(76, 84, 12, 34, 90)\n",
      "(76, 84, 12, 34, 90)\n"
     ]
    }
   ],
   "source": [
    "timesToDisplay=int(input(\"Enter the number of times to display the element\"))\n",
    "for _ in range(timesToDisplay):\n",
    "    print(tuple1)"
   ]
  },
  {
   "cell_type": "code",
   "execution_count": null,
   "id": "2644ab6b",
   "metadata": {},
   "outputs": [],
   "source": [
    "#5. To concatenate two tuples"
   ]
  },
  {
   "cell_type": "code",
   "execution_count": 10,
   "id": "1b7f9491",
   "metadata": {},
   "outputs": [
    {
     "name": "stdout",
     "output_type": "stream",
     "text": [
      "(76, 84, 12, 34, 90, 99, 66, 55)\n"
     ]
    }
   ],
   "source": [
    "tuple2=(99,66,55)\n",
    "concatenated_tuple=tuple1+tuple2\n",
    "print(concatenated_tuple)"
   ]
  },
  {
   "cell_type": "code",
   "execution_count": null,
   "id": "b7a6da74",
   "metadata": {},
   "outputs": [],
   "source": [
    "#6. To sort the elements of the tuple in ascending order"
   ]
  },
  {
   "cell_type": "code",
   "execution_count": null,
   "id": "b2fd99c7",
   "metadata": {},
   "outputs": [],
   "source": [
    "We cant directly sort the tuple we should change into list sort it and again change to tuple"
   ]
  },
  {
   "cell_type": "code",
   "execution_count": 12,
   "id": "ace7fc9c",
   "metadata": {},
   "outputs": [
    {
     "name": "stdout",
     "output_type": "stream",
     "text": [
      "(12, 34, 55, 66, 76, 84, 90, 99)\n"
     ]
    }
   ],
   "source": [
    "sorted_list = sorted(concatenated_tuple)\n",
    "sorted_tuple = tuple(sorted_list)\n",
    "print(sorted_tuple)"
   ]
  },
  {
   "cell_type": "markdown",
   "id": "3477b348",
   "metadata": {},
   "source": [
    "# 3.Program to implement the following"
   ]
  },
  {
   "cell_type": "code",
   "execution_count": 16,
   "id": "c5b6b62b",
   "metadata": {},
   "outputs": [],
   "source": [
    "list4=[23,54,65,3,4,7,80,67,12,32]"
   ]
  },
  {
   "cell_type": "code",
   "execution_count": 17,
   "id": "321fd1ed",
   "metadata": {},
   "outputs": [
    {
     "name": "stdout",
     "output_type": "stream",
     "text": [
      "32\n"
     ]
    }
   ],
   "source": [
    "a=len(list4)-1\n",
    "print(list4[a])"
   ]
  },
  {
   "cell_type": "code",
   "execution_count": null,
   "id": "cea386ef",
   "metadata": {},
   "outputs": [],
   "source": [
    "#Command for displaying the values from the list[0:4]"
   ]
  },
  {
   "cell_type": "code",
   "execution_count": 18,
   "id": "e430924d",
   "metadata": {},
   "outputs": [
    {
     "name": "stdout",
     "output_type": "stream",
     "text": [
      "[23, 54, 65, 3]\n"
     ]
    }
   ],
   "source": [
    "print(list4[0:4])"
   ]
  },
  {
   "cell_type": "code",
   "execution_count": null,
   "id": "5c6d611b",
   "metadata": {},
   "outputs": [],
   "source": [
    "#Command for displaying the values from the list[2:]"
   ]
  },
  {
   "cell_type": "code",
   "execution_count": 19,
   "id": "d0eceea0",
   "metadata": {},
   "outputs": [
    {
     "name": "stdout",
     "output_type": "stream",
     "text": [
      "[65, 3, 4, 7, 80, 67, 12, 32]\n"
     ]
    }
   ],
   "source": [
    "print(list4[2:])"
   ]
  },
  {
   "cell_type": "code",
   "execution_count": null,
   "id": "7b535bd1",
   "metadata": {},
   "outputs": [],
   "source": [
    "#Command for displaying the values from the list[:6]"
   ]
  },
  {
   "cell_type": "code",
   "execution_count": 21,
   "id": "02849fa4",
   "metadata": {},
   "outputs": [
    {
     "name": "stdout",
     "output_type": "stream",
     "text": [
      "[23, 54, 65, 3, 4, 7]\n"
     ]
    }
   ],
   "source": [
    "print(list4[:6])"
   ]
  },
  {
   "cell_type": "markdown",
   "id": "0996c064",
   "metadata": {},
   "source": [
    "# 4.Write a Python Program for tuple1=(10,50,20,40,30)"
   ]
  },
  {
   "cell_type": "code",
   "execution_count": 23,
   "id": "fbd0a09e",
   "metadata": {},
   "outputs": [],
   "source": [
    "tuple_1=(10,50,20,40,30)"
   ]
  },
  {
   "cell_type": "code",
   "execution_count": null,
   "id": "c02b1737",
   "metadata": {},
   "outputs": [],
   "source": [
    "#1. To display the elements 10 and 50 from tuple_1"
   ]
  },
  {
   "cell_type": "code",
   "execution_count": 25,
   "id": "fda0b785",
   "metadata": {},
   "outputs": [
    {
     "name": "stdout",
     "output_type": "stream",
     "text": [
      "(10, 50)\n"
     ]
    }
   ],
   "source": [
    "print(tuple_1[0:2])"
   ]
  },
  {
   "cell_type": "code",
   "execution_count": null,
   "id": "a462394c",
   "metadata": {},
   "outputs": [],
   "source": [
    "#2. To display the length of a tuple_1"
   ]
  },
  {
   "cell_type": "code",
   "execution_count": 26,
   "id": "640780df",
   "metadata": {},
   "outputs": [
    {
     "name": "stdout",
     "output_type": "stream",
     "text": [
      "5\n"
     ]
    }
   ],
   "source": [
    "print(len(tuple_1))"
   ]
  },
  {
   "cell_type": "code",
   "execution_count": null,
   "id": "5719a448",
   "metadata": {},
   "outputs": [],
   "source": [
    "#3. To find the minimum element from tuple in python"
   ]
  },
  {
   "cell_type": "code",
   "execution_count": 27,
   "id": "be2ab428",
   "metadata": {},
   "outputs": [
    {
     "name": "stdout",
     "output_type": "stream",
     "text": [
      "10\n"
     ]
    }
   ],
   "source": [
    "minimum_element=min(tuple_1)\n",
    "print(minimum_element)"
   ]
  },
  {
   "cell_type": "code",
   "execution_count": null,
   "id": "feff6b12",
   "metadata": {},
   "outputs": [],
   "source": [
    "#4. To add all elements in the tuple_1"
   ]
  },
  {
   "cell_type": "code",
   "execution_count": 28,
   "id": "06926357",
   "metadata": {},
   "outputs": [
    {
     "name": "stdout",
     "output_type": "stream",
     "text": [
      "150\n"
     ]
    }
   ],
   "source": [
    "total = 0\n",
    "for element in tuple_1:\n",
    "    total += element\n",
    "\n",
    "print(total)"
   ]
  },
  {
   "cell_type": "code",
   "execution_count": null,
   "id": "42486ffc",
   "metadata": {},
   "outputs": [],
   "source": [
    "#5. To display the same tuple_1 multiple times"
   ]
  },
  {
   "cell_type": "code",
   "execution_count": 29,
   "id": "a1d788cd",
   "metadata": {},
   "outputs": [
    {
     "name": "stdout",
     "output_type": "stream",
     "text": [
      "Enter the times to display4\n",
      "(10, 50, 20, 40, 30)\n",
      "(10, 50, 20, 40, 30)\n",
      "(10, 50, 20, 40, 30)\n",
      "(10, 50, 20, 40, 30)\n"
     ]
    }
   ],
   "source": [
    "times_to_display=int(input(\"Enter the times to display\"))\n",
    "\n",
    "for _ in range(times_to_display):\n",
    "    print(tuple_1)"
   ]
  },
  {
   "cell_type": "markdown",
   "id": "6bbe77af",
   "metadata": {},
   "source": [
    "# 5. Write a Python Program"
   ]
  },
  {
   "cell_type": "code",
   "execution_count": null,
   "id": "10cb5104",
   "metadata": {},
   "outputs": [],
   "source": [
    "# To calculate the length of a string"
   ]
  },
  {
   "cell_type": "code",
   "execution_count": 30,
   "id": "5cbb3909",
   "metadata": {},
   "outputs": [
    {
     "name": "stdout",
     "output_type": "stream",
     "text": [
      "10\n"
     ]
    }
   ],
   "source": [
    "str=\"Rajaganesh\"\n",
    "print(len(str))"
   ]
  },
  {
   "cell_type": "code",
   "execution_count": null,
   "id": "2c74f51f",
   "metadata": {},
   "outputs": [],
   "source": [
    "#To reverse words in a string"
   ]
  },
  {
   "cell_type": "code",
   "execution_count": 32,
   "id": "0b6301b3",
   "metadata": {},
   "outputs": [
    {
     "name": "stdout",
     "output_type": "stream",
     "text": [
      "Raja! am I Hello\n"
     ]
    }
   ],
   "source": [
    "string=\"Hello I am Raja!\"\n",
    "word=string.split(\" \")\n",
    "reverseword=word[::-1]\n",
    "reverseString=' '.join(reverseword)\n",
    "print(reverseString)"
   ]
  },
  {
   "cell_type": "code",
   "execution_count": null,
   "id": "3706111d",
   "metadata": {},
   "outputs": [],
   "source": [
    "# To display the same string multiple times"
   ]
  },
  {
   "cell_type": "code",
   "execution_count": 34,
   "id": "78a7c623",
   "metadata": {},
   "outputs": [
    {
     "name": "stdout",
     "output_type": "stream",
     "text": [
      "Enter how many no of times should string display4\n",
      "Hello I am Raja!\n",
      "Hello I am Raja!\n",
      "Hello I am Raja!\n",
      "Hello I am Raja!\n"
     ]
    }
   ],
   "source": [
    "noOfTime=int(input(\"Enter how many no of times should string display\"))\n",
    "for _ in range(noOfTime):\n",
    "    print(string)"
   ]
  },
  {
   "cell_type": "code",
   "execution_count": null,
   "id": "cdc976e1",
   "metadata": {},
   "outputs": [],
   "source": [
    "# To concatenate two string"
   ]
  },
  {
   "cell_type": "code",
   "execution_count": 37,
   "id": "fc98fa83",
   "metadata": {},
   "outputs": [
    {
     "name": "stdout",
     "output_type": "stream",
     "text": [
      "Rajaganesh Hello I am Raja!\n"
     ]
    }
   ],
   "source": [
    "print(str+\" \"+string)"
   ]
  },
  {
   "cell_type": "code",
   "execution_count": null,
   "id": "3b9dafc2",
   "metadata": {},
   "outputs": [],
   "source": [
    "#Str1=\"South India\", using string slicing to slice \"India\""
   ]
  },
  {
   "cell_type": "code",
   "execution_count": 38,
   "id": "e7ab015d",
   "metadata": {},
   "outputs": [
    {
     "name": "stdout",
     "output_type": "stream",
     "text": [
      "India\n"
     ]
    }
   ],
   "source": [
    "Str1=\"South India\"\n",
    "print(Str1[6:])"
   ]
  },
  {
   "cell_type": "markdown",
   "id": "271f4cbe",
   "metadata": {},
   "source": [
    "# 6. Perform the Following"
   ]
  },
  {
   "cell_type": "code",
   "execution_count": null,
   "id": "70c68504",
   "metadata": {},
   "outputs": [],
   "source": [
    "#1. Creating the Dictionary"
   ]
  },
  {
   "cell_type": "code",
   "execution_count": 39,
   "id": "fe66eda1",
   "metadata": {},
   "outputs": [],
   "source": [
    "dict = {\n",
    "    'name': 'Raja',\n",
    "    'age': 22,\n",
    "    'city': 'Virudhunagar'\n",
    "}"
   ]
  },
  {
   "cell_type": "code",
   "execution_count": null,
   "id": "f6c64906",
   "metadata": {},
   "outputs": [],
   "source": [
    "#2. Access the values and keys in the dictionary"
   ]
  },
  {
   "cell_type": "code",
   "execution_count": 41,
   "id": "8e5cfd12",
   "metadata": {},
   "outputs": [
    {
     "name": "stdout",
     "output_type": "stream",
     "text": [
      "Raja\n",
      "22\n",
      "Virudhunagar\n"
     ]
    }
   ],
   "source": [
    "print(dict['name'])\n",
    "print(dict['age'])\n",
    "print(dict['city'])"
   ]
  },
  {
   "cell_type": "code",
   "execution_count": 42,
   "id": "3a955c8b",
   "metadata": {},
   "outputs": [
    {
     "name": "stdout",
     "output_type": "stream",
     "text": [
      "name\n",
      "age\n",
      "city\n"
     ]
    }
   ],
   "source": [
    "for key in dict.keys():\n",
    "    print(key)"
   ]
  },
  {
   "cell_type": "code",
   "execution_count": null,
   "id": "be5e5435",
   "metadata": {},
   "outputs": [],
   "source": [
    "#Updating the dictionary using a python"
   ]
  },
  {
   "cell_type": "code",
   "execution_count": 44,
   "id": "a01a7980",
   "metadata": {},
   "outputs": [
    {
     "name": "stdout",
     "output_type": "stream",
     "text": [
      "Ganesh\n"
     ]
    }
   ],
   "source": [
    "def updateName(newName):\n",
    "    dict['name']=newName\n",
    "updateName(\"Ganesh\")\n",
    "print(dict['name'])"
   ]
  },
  {
   "cell_type": "code",
   "execution_count": null,
   "id": "2e28e2c7",
   "metadata": {},
   "outputs": [],
   "source": [
    "#clear and delete Dictionary values"
   ]
  },
  {
   "cell_type": "code",
   "execution_count": 45,
   "id": "c60aa00f",
   "metadata": {},
   "outputs": [
    {
     "data": {
      "text/plain": [
       "{}"
      ]
     },
     "execution_count": 45,
     "metadata": {},
     "output_type": "execute_result"
    }
   ],
   "source": [
    "dict.clear()\n",
    "dict"
   ]
  },
  {
   "cell_type": "code",
   "execution_count": 51,
   "id": "e8866f93",
   "metadata": {},
   "outputs": [],
   "source": [
    "dict2={\n",
    "    \"name\":\"Ranjith\",\n",
    "    \"age\":22\n",
    "}\n",
    "del dict2"
   ]
  },
  {
   "cell_type": "markdown",
   "id": "e15cdde4",
   "metadata": {},
   "source": [
    "# # 7.To insert a number to any position in a list"
   ]
  },
  {
   "cell_type": "code",
   "execution_count": 1,
   "id": "8b71e834",
   "metadata": {},
   "outputs": [
    {
     "name": "stdout",
     "output_type": "stream",
     "text": [
      "Enter the index where we have to insert2\n",
      "Enter the number you want to insert in the index7\n"
     ]
    },
    {
     "data": {
      "text/plain": [
       "[1, 4, 7, 5, 6, 3, 5]"
      ]
     },
     "execution_count": 1,
     "metadata": {},
     "output_type": "execute_result"
    }
   ],
   "source": [
    "myList=[1,4,5,6,3,5]\n",
    "position=int(input(\"Enter the index where we have to insert\"))\n",
    "newno=int(input(\"Enter the number you want to insert in the index\"))\n",
    "myList.insert(position, newno)\n",
    "myList"
   ]
  },
  {
   "cell_type": "markdown",
   "id": "f6ee61e8",
   "metadata": {},
   "source": [
    "# 8.To delete an element from a list by index"
   ]
  },
  {
   "cell_type": "code",
   "execution_count": 2,
   "id": "fcd57ecb",
   "metadata": {},
   "outputs": [
    {
     "name": "stdout",
     "output_type": "stream",
     "text": [
      "Enter the index you want to delete from the list2\n"
     ]
    },
    {
     "data": {
      "text/plain": [
       "[1, 4, 5, 6, 3, 5]"
      ]
     },
     "execution_count": 2,
     "metadata": {},
     "output_type": "execute_result"
    }
   ],
   "source": [
    "index=int(input(\"Enter the index you want to delete from the list\"))\n",
    "myList.pop(index)\n",
    "myList"
   ]
  },
  {
   "cell_type": "markdown",
   "id": "4485b4e2",
   "metadata": {},
   "source": [
    "# 9.Write a program to display number from 1 to 100"
   ]
  },
  {
   "cell_type": "code",
   "execution_count": 3,
   "id": "bba52625",
   "metadata": {},
   "outputs": [
    {
     "name": "stdout",
     "output_type": "stream",
     "text": [
      "1 2 3 4 5 6 7 8 9 10 11 12 13 14 15 16 17 18 19 20 21 22 23 24 25 26 27 28 29 30 31 32 33 34 35 36 37 38 39 40 41 42 43 44 45 46 47 48 49 50 51 52 53 54 55 56 57 58 59 60 61 62 63 64 65 66 67 68 69 70 71 72 73 74 75 76 77 78 79 80 81 82 83 84 85 86 87 88 89 90 91 92 93 94 95 96 97 98 99 100 "
     ]
    }
   ],
   "source": [
    "for i in range(1,101):\n",
    "    print(i, end=' ')"
   ]
  },
  {
   "cell_type": "markdown",
   "id": "a80f4704",
   "metadata": {},
   "source": [
    "# 10. To find sum of all items in a tuple"
   ]
  },
  {
   "cell_type": "code",
   "execution_count": 4,
   "id": "ed9d143e",
   "metadata": {},
   "outputs": [
    {
     "name": "stdout",
     "output_type": "stream",
     "text": [
      "The sum of the items in tuple is  55\n"
     ]
    }
   ],
   "source": [
    "myTuple=(1,2,3,4,5,6,7,8,9,10)\n",
    "sum=0\n",
    "for item in myTuple:\n",
    "    sum+=item\n",
    "print(\"The sum of the items in tuple is \",sum)"
   ]
  },
  {
   "cell_type": "markdown",
   "id": "e6e164e5",
   "metadata": {},
   "source": [
    "# 11. Create a Dictionary containing three lambda functions square,cube and cuberoot"
   ]
  },
  {
   "cell_type": "code",
   "execution_count": 2,
   "id": "73dbbf04",
   "metadata": {},
   "outputs": [
    {
     "name": "stdout",
     "output_type": "stream",
     "text": [
      "Square of 5: 25\n",
      "Cube of 5: 125\n",
      "Cube root of 5: 1.7099759466766968\n",
      "The  sum of output of the three functions is 151.7099759466767\n"
     ]
    }
   ],
   "source": [
    "functions_dict = {\n",
    "    'Square': lambda x: x ** 2,\n",
    "    'Cube': lambda x: x ** 3,\n",
    "    'CubeRoot': lambda x: x ** (1/3)\n",
    "}\n",
    "\n",
    "number = 5\n",
    "\n",
    "square_result = functions_dict['Square'](number)\n",
    "cube_result = functions_dict['Cube'](number)\n",
    "cuberoot_result= functions_dict['CubeRoot'](number)\n",
    "\n",
    "print(f\"Square of {number}: {square_result}\")\n",
    "print(f\"Cube of {number}: {cube_result}\")\n",
    "print(f\"Cube root of {number}: {cuberoot_result}\")\n",
    "sum=square_result+cube_result+cuberoot_result\n",
    "print(\"The  sum of output of the three functions is\",sum)"
   ]
  },
  {
   "cell_type": "code",
   "execution_count": null,
   "id": "c220a6de",
   "metadata": {},
   "outputs": [],
   "source": [
    "1. E.g.=dict={'Square': function for squaring,'Cube':function for cube,'Squareroot': function for square root}"
   ]
  },
  {
   "cell_type": "markdown",
   "id": "c217b8a0",
   "metadata": {},
   "source": [
    "# 12. Find the words from the list that  have their second character in Upper Case"
   ]
  },
  {
   "cell_type": "code",
   "execution_count": null,
   "id": "09774825",
   "metadata": {},
   "outputs": [],
   "source": [
    "ls=['hello','Dear','hOw','ARe','You']\n",
    "for word in ls:\n",
    "    if word[1].isupper():\n",
    "        print(word)"
   ]
  },
  {
   "cell_type": "markdown",
   "id": "7a5e6248",
   "metadata": {},
   "source": [
    "# 13. A dictionary of names and their weights on earth is given. Find how much they will weigh on the moon.(Use map and lambda functions)\n",
    "Formula: wMoon=(wEarth*GMoon)/GEarth\n",
    "    \n",
    "    # Weight of people in kg\n",
    "    WeightOnEarth={'John':45,'Shelly':65,'Marry':35}\n",
    "# Gravitational force on the Moon: 1.622 m/s2\n",
    "    GMoon =1.622\n",
    "# Gravitational force on the earth: 9.81 m/s2\n",
    "    GEarth=9.81"
   ]
  },
  {
   "cell_type": "code",
   "execution_count": 7,
   "id": "ff0d2cd6",
   "metadata": {},
   "outputs": [
    {
     "name": "stdout",
     "output_type": "stream",
     "text": [
      "[7.440366972477065, 10.747196738022426, 5.786952089704383]\n",
      "Weights on the Moon:\n",
      "7.44 kg\n",
      "10.75 kg\n",
      "5.79 kg\n"
     ]
    }
   ],
   "source": [
    "wEarth = {'John': 45, 'Shelly': 65, 'Marry': 35}\n",
    "GMoon = 1.622\n",
    "GEarth = 9.81\n",
    "wMoon = list(map(lambda name, weight: (weight * GMoon) / GEarth, wEarth.keys(), wEarth.values()))\n",
    "print(\"Weights on the Moon:\")\n",
    "for weight in wMoon:\n",
    "    print(f\"{weight:.2f} kg\")"
   ]
  },
  {
   "cell_type": "markdown",
   "id": "c76a2615",
   "metadata": {},
   "source": [
    "# Control Structures"
   ]
  },
  {
   "cell_type": "markdown",
   "id": "fba437e4",
   "metadata": {},
   "source": [
    "# 1. Write a python program to find the first N Prime Numbers"
   ]
  },
  {
   "cell_type": "code",
   "execution_count": 8,
   "id": "abcd7999",
   "metadata": {},
   "outputs": [
    {
     "name": "stdout",
     "output_type": "stream",
     "text": [
      "Enter the value of N: 5\n"
     ]
    }
   ],
   "source": [
    "def prime(n):\n",
    "    listN=[]\n",
    "    for num in range(2,100):\n",
    "        flag = False\n",
    "        if num == 1:\n",
    "            continue\n",
    "        elif num > 1:\n",
    "            for i in range(2, num):\n",
    "                if (num % i) == 0:\n",
    "                    flag = True\n",
    "                    break\n",
    "\n",
    "            if flag==False:\n",
    "                listN.append(num)\n",
    "                n=n-1\n",
    "\n",
    "            \n",
    "    return listN\n",
    "n=int(input(\"Enter the no of prime of numbers in a list\"))\n",
    "list1=prime(n)\n",
    "for i in range(n):\n",
    "    print(list1[i],end=' ')"
   ]
  },
  {
   "cell_type": "markdown",
   "id": "75143691",
   "metadata": {},
   "source": [
    "# 2. Python program to calculate the salary of an employee"
   ]
  },
  {
   "cell_type": "code",
   "execution_count": 9,
   "id": "f9012aba",
   "metadata": {},
   "outputs": [
    {
     "name": "stdout",
     "output_type": "stream",
     "text": [
      "Enter the Basic salary of an employee10000\n",
      "Enter the HRA of an employee1000\n",
      "Enter the TA of an employee500\n",
      "Enter the DA of an employee500\n",
      "The net salary is 10800.0\n"
     ]
    }
   ],
   "source": [
    "a=int(input(\"Enter the Basic salary of an employee\"))\n",
    "b=int(input(\"Enter the HRA of an employee\"))\n",
    "c=int(input(\"Enter the TA of an employee\"))\n",
    "d=int(input(\"Enter the DA of an employee\"))\n",
    "gross_salary=a+b+c+d\n",
    "tax=0.1*gross_salary\n",
    "print(\"The net salary is\", gross_salary-tax)"
   ]
  },
  {
   "cell_type": "markdown",
   "id": "a4a1bfff",
   "metadata": {},
   "source": [
    "# 3. Write a python program to search for a string in the given list"
   ]
  },
  {
   "cell_type": "code",
   "execution_count": 11,
   "id": "d0ffe53c",
   "metadata": {},
   "outputs": [
    {
     "name": "stdout",
     "output_type": "stream",
     "text": [
      "Enter the string you want to searchhanr\n",
      "String Not Found\n"
     ]
    }
   ],
   "source": [
    "my_list = [\"raja\", \"ganesh\", \"janani\", \"sara\", \"denis\"]\n",
    "search=input(\"Enter the string you want to search-\")\n",
    "counter=False\n",
    "for word in my_list:\n",
    "    if word==search:\n",
    "        counter=True\n",
    "if(counter==True):\n",
    "    print(\"String Found\")\n",
    "else:\n",
    "    print(\"String Not Found\")"
   ]
  },
  {
   "cell_type": "markdown",
   "id": "1b1416ca",
   "metadata": {},
   "source": [
    "# 4.Write a python function that accepts a string and calculate the number of upper and lower case letters"
   ]
  },
  {
   "cell_type": "code",
   "execution_count": 14,
   "id": "b2607f85",
   "metadata": {},
   "outputs": [
    {
     "name": "stdout",
     "output_type": "stream",
     "text": [
      "Enter the string to calculateRAja Ganesh\n",
      "The Upper case is 3\n",
      "The Lower case is 7\n"
     ]
    }
   ],
   "source": [
    "string_input=input(\"Enter the string to calculate\")\n",
    "alpha=0\n",
    "low=0\n",
    "for char in string_input:\n",
    "    if char.isupper():\n",
    "        alpha=alpha+1\n",
    "    elif char.islower():\n",
    "        low=low+1\n",
    "print(\"The Upper case is\",alpha)\n",
    "print(\"The Lower case is\",low)"
   ]
  },
  {
   "cell_type": "markdown",
   "id": "92f08991",
   "metadata": {},
   "source": [
    "# 5. Write a program to display the odd numbers and even numbers that fall between 12 and 37"
   ]
  },
  {
   "cell_type": "code",
   "execution_count": 15,
   "id": "092e87c5",
   "metadata": {},
   "outputs": [
    {
     "name": "stdout",
     "output_type": "stream",
     "text": [
      "The odd numbers are  [12, 14, 16, 18, 20, 22, 24, 26, 28, 30, 32, 34, 36]\n",
      "The even numbers are  [13, 15, 17, 19, 21, 23, 25, 27, 29, 31, 33, 35, 37]\n"
     ]
    }
   ],
   "source": [
    "lst1=[]\n",
    "lst2=[]\n",
    "for i in range(12,38):\n",
    "    if i%2==0:\n",
    "        lst1.append(i)\n",
    "    else:\n",
    "        lst2.append(i)\n",
    "print(\"The odd numbers are \",lst1)\n",
    "print(\"The even numbers are \",lst2)"
   ]
  },
  {
   "cell_type": "markdown",
   "id": "4555067a",
   "metadata": {},
   "source": [
    "# 6. Write a python program to print the table of any number"
   ]
  },
  {
   "cell_type": "code",
   "execution_count": 17,
   "id": "c1f49aff",
   "metadata": {
    "scrolled": true
   },
   "outputs": [
    {
     "name": "stdout",
     "output_type": "stream",
     "text": [
      "Enter the number4\n",
      "4\n",
      "8\n",
      "12\n",
      "16\n",
      "20\n",
      "24\n",
      "28\n",
      "32\n",
      "36\n",
      "40\n"
     ]
    }
   ],
   "source": [
    "a=int(input(\"Enter the number\"))\n",
    "for i in range(1,11):\n",
    "    print(i*a) "
   ]
  },
  {
   "cell_type": "markdown",
   "id": "01d3134f",
   "metadata": {},
   "source": [
    "# 7. Write a python program to sum the first 10 prime numbers"
   ]
  },
  {
   "cell_type": "code",
   "execution_count": 26,
   "id": "e79be98b",
   "metadata": {},
   "outputs": [
    {
     "name": "stdout",
     "output_type": "stream",
     "text": [
      "The sum of the first 10 prime nos: 129\n"
     ]
    }
   ],
   "source": [
    "prime_numbers = []\n",
    "num = 2\n",
    "\n",
    "while len(prime_numbers) < 10:\n",
    "    if num > 1:\n",
    "        is_prime = True\n",
    "        for i in range(2, int(num**0.5) + 1):\n",
    "            if num % i == 0:\n",
    "                is_prime = False\n",
    "                break\n",
    "        if is_prime:\n",
    "            prime_numbers.append(num)\n",
    "    num += 1\n",
    "sum=0\n",
    "for no in prime_numbers:\n",
    "    sum=sum+no\n",
    "print(\"The sum of the first 10 prime nos:\", sum)"
   ]
  },
  {
   "cell_type": "markdown",
   "id": "5be57617",
   "metadata": {},
   "source": [
    "# 8. Write a python program  to implement arithmetic operations using Nested if"
   ]
  },
  {
   "cell_type": "code",
   "execution_count": 37,
   "id": "ae7d4378",
   "metadata": {},
   "outputs": [
    {
     "name": "stdout",
     "output_type": "stream",
     "text": [
      "Enter the first number: 45\n",
      "Enter the second number: 12\n",
      "Enter the operation +, -, *, /: -\n",
      "The output is 45.0 - 12.0 = 33.0\n"
     ]
    }
   ],
   "source": [
    "no1 = float(input(\"Enter the first number: \"))\n",
    "no2 = float(input(\"Enter the second number: \"))\n",
    "operation = input(\"Enter the operation +, -, *, /: \")\n",
    "if operation == '+':\n",
    "    result = no1 + no2\n",
    "elif operation == '-':\n",
    "    result = no1 - no2\n",
    "elif operation == '*':\n",
    "    result = no1 * no2\n",
    "elif operation == '/':\n",
    "    result = no1 / no2\n",
    "else:\n",
    "    print(\"Invalid operation entered.\")\n",
    "print(f\"The output is {no1} {operation} {no2} = {result}\")"
   ]
  },
  {
   "cell_type": "markdown",
   "id": "3d7a7552",
   "metadata": {},
   "source": [
    "# 9. Python program to take the temperature in celcius and convert to Fahrenheit"
   ]
  },
  {
   "cell_type": "code",
   "execution_count": 32,
   "id": "dae37a09",
   "metadata": {},
   "outputs": [
    {
     "name": "stdout",
     "output_type": "stream",
     "text": [
      "Enter temperature in Celsius: 100\n",
      "The faherenheit of celcius {celsius} is  212.0\n"
     ]
    }
   ],
   "source": [
    "celsius = float(input(\"Enter temperature in Celsius: \"))\n",
    "fahrenheit = (celsius * 9/5) + 32\n",
    "print(\"The faherenheit of celcius {celsius} is \",fahrenheit)\n"
   ]
  },
  {
   "cell_type": "markdown",
   "id": "b1bf7992",
   "metadata": {},
   "source": [
    "# 10. To find minimum and maximum numnber in list without using inbuilt function"
   ]
  },
  {
   "cell_type": "code",
   "execution_count": 38,
   "id": "85497745",
   "metadata": {},
   "outputs": [
    {
     "name": "stdout",
     "output_type": "stream",
     "text": [
      "The minimum number is 12\n",
      "The maximum number is 890\n"
     ]
    }
   ],
   "source": [
    "list_maxmin=[56,34,12,890,67]\n",
    "minnum= list_maxmin[0] \n",
    "maxnum = list_maxmin[0] \n",
    "for num in list_maxmin:\n",
    "    if num < minnum:\n",
    "        minnum = num\n",
    "    if num > maxnum:\n",
    "        maxnum = num\n",
    "print(f\"The minimum number is {minnum}\\nThe maximum number is {maxnum}\")"
   ]
  },
  {
   "cell_type": "markdown",
   "id": "1bcfd2c7",
   "metadata": {},
   "source": [
    "# 11. python program to print out the number of seconds in 30-day month 30 days, 24hours in a day, 60minutes per day, 60 seconds in a minute"
   ]
  },
  {
   "cell_type": "code",
   "execution_count": 40,
   "id": "6247fdab",
   "metadata": {},
   "outputs": [
    {
     "name": "stdout",
     "output_type": "stream",
     "text": [
      "Number of seconds in a year: 2592000\n"
     ]
    }
   ],
   "source": [
    "seconds_per_minute = 60\n",
    "seconds_per_hour = 60 * seconds_per_minute\n",
    "seconds_per_day = 24 * seconds_per_hour\n",
    "days_in_month = 30\n",
    "seconds_in_month = days_in_month * seconds_per_day\n",
    "print(\"Number of seconds in a year:\", seconds_in_month)"
   ]
  },
  {
   "cell_type": "markdown",
   "id": "0d04779a",
   "metadata": {},
   "source": [
    "# 12. python program to print the no of seconds in year"
   ]
  },
  {
   "cell_type": "code",
   "execution_count": 39,
   "id": "3b884871",
   "metadata": {},
   "outputs": [
    {
     "name": "stdout",
     "output_type": "stream",
     "text": [
      "Number of seconds in a year: 31536000\n"
     ]
    }
   ],
   "source": [
    "seconds_per_minute = 60\n",
    "seconds_per_hour = 60 * seconds_per_minute\n",
    "seconds_per_day = 24 * seconds_per_hour\n",
    "days_in_year = 365\n",
    "seconds_in_year = days_in_year * seconds_per_day\n",
    "print(\"Number of seconds in a year:\", seconds_in_year)"
   ]
  },
  {
   "cell_type": "markdown",
   "id": "3aa3d3af",
   "metadata": {},
   "source": [
    "# 13. A high-speed train can travel at an average speed of 150mph, how long will it take a train travelling at his speed to travel from london to glasgow which is 414 miles away"
   ]
  },
  {
   "cell_type": "code",
   "execution_count": 41,
   "id": "72722ee8",
   "metadata": {},
   "outputs": [
    {
     "name": "stdout",
     "output_type": "stream",
     "text": [
      "It will take 2.76 hours to travel\n"
     ]
    }
   ],
   "source": [
    "distance = 414\n",
    "speed = 150\n",
    "time_hours = distance / speed\n",
    "print(f\"It will take {time_hours} hours to travel\")"
   ]
  },
  {
   "cell_type": "markdown",
   "id": "db575e92",
   "metadata": {},
   "source": [
    "# 14. Write a python program that defines a variable called days_in_each_school_year and assign 192 to the variable. The program should then print out the total hours that you spend in school from year 7 to 11, if each day you spent 6 hours in school days_in_each_school_year=192"
   ]
  },
  {
   "cell_type": "code",
   "execution_count": 49,
   "id": "1665479c",
   "metadata": {},
   "outputs": [
    {
     "name": "stdout",
     "output_type": "stream",
     "text": [
      "Total hours spent in school is 5760 hours\n"
     ]
    }
   ],
   "source": [
    "days_in_each_school_year = 192\n",
    "startYear = 7\n",
    "endYear = 11\n",
    "hours_per_day = 6\n",
    "total_hours = (endYear - startYear + 1) * days_in_each_school_year * hours_per_day\n",
    "print(f\"Total hours spent in school is {total_hours} hours\")"
   ]
  },
  {
   "cell_type": "code",
   "execution_count": null,
   "id": "31fb0d78",
   "metadata": {},
   "outputs": [],
   "source": [
    "#15. If the age of Ram, Sam and Khan are input through the keyboard, write a python program to determine the eldest and youngest of the three"
   ]
  },
  {
   "cell_type": "code",
   "execution_count": 51,
   "id": "44b41364",
   "metadata": {},
   "outputs": [
    {
     "name": "stdout",
     "output_type": "stream",
     "text": [
      "Enter Ram's age: 45\n",
      "Enter Sam's age: 55\n",
      "Enter Khan's age: 12\n",
      "The Youngest is Khan\n",
      "The Eldest is Sam\n"
     ]
    }
   ],
   "source": [
    "ram_age = int(input(\"Enter Ram's age: \"))\n",
    "sam_age = int(input(\"Enter Sam's age: \"))\n",
    "khan_age = int(input(\"Enter Khan's age: \"))\n",
    "myList=[]\n",
    "myList.append(ram_age)\n",
    "myList.append(sam_age)\n",
    "myList.append(khan_age)\n",
    "myList.sort()\n",
    "myList\n",
    "if myList[0]==ram_age:\n",
    "    print(\"The Youngest is Ram\")\n",
    "elif myList[0]==sam_age:\n",
    "    print(\"The Youngest is Sam\")\n",
    "else:\n",
    "    print(\"The Youngest is Khan\")\n",
    "if myList[2]==ram_age:\n",
    "    print(\"The Eldest is Ram\")\n",
    "elif myList[2]==sam_age:\n",
    "    print(\"The Eldest is Sam\")\n",
    "else:\n",
    "    print(\"The Eldest is Khan\")"
   ]
  },
  {
   "cell_type": "markdown",
   "id": "a100c4e2",
   "metadata": {},
   "source": [
    "# 16. Write a python program to rotate a list by right n times and without slicing"
   ]
  },
  {
   "cell_type": "code",
   "execution_count": 42,
   "id": "314d0b49",
   "metadata": {},
   "outputs": [
    {
     "name": "stdout",
     "output_type": "stream",
     "text": [
      "Enter the number of times you want to rotate3\n",
      "Rotated list: [3, 4, 5, 1, 2]\n"
     ]
    }
   ],
   "source": [
    "my_list = [1, 2, 3, 4, 5]\n",
    "n=int(input(\"Enter the number of times you want to rotate\"))\n",
    "n = n % len(my_list)\n",
    "for _ in range(n):\n",
    "    last_element = my_list.pop()\n",
    "    my_list.insert(0, last_element)\n",
    "print(\"Rotated list:\", my_list)"
   ]
  },
  {
   "cell_type": "markdown",
   "id": "32b36bf3",
   "metadata": {},
   "source": [
    "# 17. Python programs to generate patterns"
   ]
  },
  {
   "cell_type": "code",
   "execution_count": 43,
   "id": "9350ea79",
   "metadata": {},
   "outputs": [
    {
     "name": "stdout",
     "output_type": "stream",
     "text": [
      "1 \n",
      "1 1 \n",
      "1 2 1 \n",
      "1 3 3 1 \n",
      "1 4 6 4 1 \n",
      "1 5 10 10 5 1 \n",
      "1 6 15 20 15 6 1 \n"
     ]
    }
   ],
   "source": [
    "num_rows=7\n",
    "for i in range(num_rows):\n",
    "    current = 1\n",
    "    for j in range(i + 1):\n",
    "        print(current, end=\" \")\n",
    "        current = current * (i - j) // (j + 1)\n",
    "    print()"
   ]
  },
  {
   "cell_type": "code",
   "execution_count": 45,
   "id": "ca3c2b07",
   "metadata": {},
   "outputs": [
    {
     "name": "stdout",
     "output_type": "stream",
     "text": [
      "* \n",
      "* * \n",
      "* * * \n",
      "* * * * \n",
      "* * * * * \n"
     ]
    }
   ],
   "source": [
    "num_rows=5\n",
    "for i in range(5):\n",
    "    for _ in range(i+1): \n",
    "        print(\"*\", end=\" \")\n",
    "    print()\n"
   ]
  },
  {
   "cell_type": "code",
   "execution_count": 46,
   "id": "46c1c978",
   "metadata": {},
   "outputs": [
    {
     "name": "stdout",
     "output_type": "stream",
     "text": [
      "      *\n",
      "     ***\n",
      "    *****\n",
      "   *******\n",
      "  *********\n",
      " ***********\n",
      "*************\n"
     ]
    }
   ],
   "source": [
    "num_rows=7\n",
    "for i in range(num_rows):\n",
    "    for j in range(num_rows-i-1):\n",
    "        print(\" \",end='')\n",
    "    for k in range(2 * i + 1):\n",
    "        print(\"*\", end=\"\")\n",
    "    print()\n"
   ]
  },
  {
   "cell_type": "code",
   "execution_count": 48,
   "id": "e9949247",
   "metadata": {},
   "outputs": [
    {
     "name": "stdout",
     "output_type": "stream",
     "text": [
      "p\n",
      "py\n",
      "pyt\n",
      "pyth\n",
      "pytho\n",
      "python\n"
     ]
    }
   ],
   "source": [
    "name = \"python\"\n",
    "for i in range(1,len(name)+1):\n",
    "    print(name[:i])"
   ]
  },
  {
   "cell_type": "code",
   "execution_count": null,
   "id": "91ce0970",
   "metadata": {},
   "outputs": [],
   "source": []
  }
 ],
 "metadata": {
  "kernelspec": {
   "display_name": "Python 3 (ipykernel)",
   "language": "python",
   "name": "python3"
  },
  "language_info": {
   "codemirror_mode": {
    "name": "ipython",
    "version": 3
   },
   "file_extension": ".py",
   "mimetype": "text/x-python",
   "name": "python",
   "nbconvert_exporter": "python",
   "pygments_lexer": "ipython3",
   "version": "3.11.4"
  }
 },
 "nbformat": 4,
 "nbformat_minor": 5
}
