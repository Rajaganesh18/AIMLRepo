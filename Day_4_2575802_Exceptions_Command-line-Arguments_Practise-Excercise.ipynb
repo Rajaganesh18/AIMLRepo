{
 "cells": [
  {
   "cell_type": "markdown",
   "id": "3ab46aa1",
   "metadata": {},
   "source": [
    "# 1.Write a python program with exception handling to input for five subjects Physic,chemistry, biology, mathematics and computer. Caluculate the percentage and grade according to the following\n",
    "1. percentage>=90%: Grade A\n",
    "2. percentage>=80%: Grade B\n",
    "3. percentage>=70%: Grade C\n",
    "4. percentage>=60%: Grade D\n",
    "5. percentage>=40%: Grade  E\n",
    "6. percentage<40%: Grade F"
   ]
  },
  {
   "cell_type": "code",
   "execution_count": 3,
   "id": "6f63d48a",
   "metadata": {},
   "outputs": [
    {
     "name": "stdout",
     "output_type": "stream",
     "text": [
      "Enter Physics marks: @1\n",
      "Invalid input. Please enter numeric values for marks.\n"
     ]
    }
   ],
   "source": [
    "try:\n",
    "    physics = float(input(\"Enter Physics marks: \"))\n",
    "    chemistry = float(input(\"Enter Chemistry marks: \"))\n",
    "    biology = float(input(\"Enter Biology marks: \"))\n",
    "    mathematics = float(input(\"Enter Mathematics marks: \"))\n",
    "    computer = float(input(\"Enter Computer marks: \"))\n",
    "\n",
    "    total_marks = physics + chemistry + biology + mathematics + computer\n",
    "    \n",
    "    percentage = (total_marks / 500) * 100\n",
    "    if percentage >= 90:\n",
    "        grade = \"A\"\n",
    "    elif percentage >= 80:\n",
    "        grade = \"B\"\n",
    "    elif percentage >= 70:\n",
    "        grade = \"C\"\n",
    "    elif percentage >= 60:\n",
    "        grade = \"D\"\n",
    "    elif percentage >= 40:\n",
    "        grade = \"E\"\n",
    "    else:\n",
    "        grade = \"F\"\n",
    "    print(f\"Grade: {grade}\")\n",
    "\n",
    "except ValueError:\n",
    "    print(\"Invalid input. Please enter numeric values for marks.\")\n",
    "except Exception as e:\n",
    "    print(f\"An error occurred: {str(e)}\")"
   ]
  },
  {
   "cell_type": "markdown",
   "id": "11e1ebf2",
   "metadata": {},
   "source": [
    "# 2. Write a python program with Exception handling to input electricity unit charges and calculate the total electricity bill according to the given condition"
   ]
  },
  {
   "cell_type": "code",
   "execution_count": 7,
   "id": "34789e6e",
   "metadata": {},
   "outputs": [
    {
     "name": "stdout",
     "output_type": "stream",
     "text": [
      "Enter the total electricity units consumed: 1000\n",
      "Total electricity bill with 20% surcharge: Rs. 1614.00\n"
     ]
    }
   ],
   "source": [
    "try:\n",
    "\n",
    "    units = float(input(\"Enter the total electricity units consumed: \"))\n",
    "\n",
    "    total_bill = 0\n",
    "\n",
    "    if units <= 50:\n",
    "        total_bill = units * 0.50\n",
    "    elif units <= 150:\n",
    "        total_bill = (50 * 0.50) + ((units - 50) * 0.75)\n",
    "    elif units <= 250:\n",
    "        total_bill = (50 * 0.50) + (100 * 0.75) + ((units - 150) * 1.20)\n",
    "    else:\n",
    "        total_bill = (50 * 0.50) + (100 * 0.75) + (100 * 1.20) + ((units - 250) * 1.50)\n",
    "\n",
    "    surcharge =  (0.20 * total_bill)\n",
    "    electricityBill=total_bill+surcharge\n",
    "\n",
    "    print(f\"Total electricity bill with 20% surcharge: Rs. {electricityBill:.2f}\")\n",
    "\n",
    "except ValueError:\n",
    "    print(\"Invalid input. Please enter numeric values for units.\")\n",
    "except Exception as e:\n",
    "    print(f\"An error occurred: {str(e)}\")"
   ]
  },
  {
   "cell_type": "markdown",
   "id": "7d64973d",
   "metadata": {},
   "source": [
    "# 3. Write a python program with Exception handling to input the week number and print the weekday"
   ]
  },
  {
   "cell_type": "code",
   "execution_count": 5,
   "id": "bdf3d5dc",
   "metadata": {},
   "outputs": [
    {
     "name": "stdout",
     "output_type": "stream",
     "text": [
      "Enter a week number 1 to 7: 8\n",
      "Error: Week number should be between 1 and 7\n"
     ]
    }
   ],
   "source": [
    "try:\n",
    "    week_number = int(input(\"Enter a week number 1 to 7: \"))\n",
    "\n",
    "    if week_number < 1 or week_number > 7:\n",
    "        raise ValueError(\"Week number should be between 1 and 7\")\n",
    "\n",
    "    weekdays = [\"Monday\", \"Tuesday\", \"Wednesday\", \"Thursday\", \"Friday\", \"Saturday\", \"Sunday\"]\n",
    "    weekday = weekdays[week_number - 1]\n",
    "    print(f\"The weekday for week number {week_number} is {weekday}\")\n",
    "    \n",
    "except ValueError as error:\n",
    "    print(f\"Error: {error}\")\n",
    "except Exception as e:\n",
    "    print(f\"An error occurred: {str(e)}\")"
   ]
  },
  {
   "cell_type": "markdown",
   "id": "98fa0a8b",
   "metadata": {},
   "source": [
    "# 4.Write a python program to implement word count using command line arguments\n",
    "1. Create a text document \"apple.txt\" which contains text for word count\n",
    "2. Create a wordcount program which calls the \"apple.txt\" document by opening the file\n",
    "3. If the word is present again in the \"apple.txt\", the wordcount is incremented by 1 unit all the words are counted in the document\n",
    "4.close the file\n",
    "5. Create a command.py program which imports the wordcount.py program\n",
    "6.Count the number of words using command line arguments\n",
    "7. Print each word and its count"
   ]
  },
  {
   "cell_type": "code",
   "execution_count": 8,
   "id": "001cfb95",
   "metadata": {},
   "outputs": [],
   "source": [
    "def word_count(filename):\n",
    "    try:\n",
    "        with open(filename, 'r') as file:\n",
    "            text = file.read()\n",
    "            words = text.split()\n",
    "            word_count = {}\n",
    "            \n",
    "            for word in words:\n",
    "                word = word.lower() \n",
    "                if word in word_count:\n",
    "                    word_count[word] += 1\n",
    "                else:\n",
    "                    word_count[word] = 1\n",
    "            \n",
    "            return word_count\n",
    "    except FileNotFoundError:\n",
    "        print(f\"File '{filename}' not found.\")\n",
    "        return None"
   ]
  },
  {
   "cell_type": "code",
   "execution_count": null,
   "id": "23ed6607",
   "metadata": {},
   "outputs": [],
   "source": [
    "import sys\n",
    "filename = sys.argv[1]\n",
    "result = word_count(filename)\n",
    "if result:\n",
    "    for word, count in result.items():\n",
    "    print(f\"{word}: {count}\")"
   ]
  },
  {
   "cell_type": "markdown",
   "id": "3d3c6c78",
   "metadata": {},
   "source": [
    "# 5. Write a python program for finding the most frequent words in a text read from a file \n",
    "1. Initially open the text file in read mode\n",
    "2. Make all the letter into lowecase and split the words in each line\n",
    "3. Get the words in an order\n",
    "4. Sort the words fkr finding the most frequent words in the file\n",
    "5. Print the most frequent words in the file"
   ]
  },
  {
   "cell_type": "code",
   "execution_count": 1,
   "id": "ad5b33e8",
   "metadata": {},
   "outputs": [
    {
     "name": "stdout",
     "output_type": "stream",
     "text": [
      "The most five frequent words in the file:\n",
      "any: 5\n",
      "a: 3\n",
      "with: 3\n",
      "to: 3\n",
      "that: 3\n"
     ]
    }
   ],
   "source": [
    "with open(\"merge.txt\", \"r\") as file:\n",
    "    text = file.read().lower()\n",
    "words = text.split()\n",
    "\n",
    "word_counts = {}\n",
    "\n",
    "for word in words:\n",
    "    if word:\n",
    "        if word in word_counts:\n",
    "            word_counts[word] += 1\n",
    "        else:\n",
    "            word_counts[word] = 1\n",
    "sorted_words = sorted(word_counts.items(), key=lambda x: x[1], reverse=True)\n",
    "\n",
    "print(\"The most five frequent words in the file:\")\n",
    "for word, count in sorted_words[:5]:\n",
    "    print(f\"{word}: {count}\")"
   ]
  },
  {
   "cell_type": "markdown",
   "id": "f50ffe33",
   "metadata": {},
   "source": [
    "# 6. File Processing with Command-Line Arguments-Scenario. You are developing a command-line utility that processes text files.User can specify input and output file path as command-line arguments. Your Program should handle exceptions gracefully\n",
    "\n",
    "1.Design a python program that takes two command-line arguments: the input file path and output file path. Ensure that the program checks if both arguments are provided and that the input file exists\n",
    "2.Implement error handling to deal with scenarios such as missing input files, invalid file paths\n",
    "3.If an error occurs during file processing, display a user-friendly error message, and exit the program with non-zero exit code\n",
    "4.Write test cases that cover various scenarios, inccluding providing valid and invalid file paths as command-line arguments"
   ]
  },
  {
   "cell_type": "code",
   "execution_count": null,
   "id": "e8f1474b",
   "metadata": {},
   "outputs": [],
   "source": [
    "import sys\n",
    "\n",
    "def main():\n",
    "    if len(sys.argv) != 3:\n",
    "        print(\"python program.py <input_file_path> <output_file_path>\")\n",
    "        sys.exit(1)\n",
    "\n",
    "    inputfile = sys.argv[1]\n",
    "    outputfile = sys.argv[2]\n",
    "\n",
    "    if not file_exists(inputfile):\n",
    "        print(f\"Error: The input file '{inputfile}' is not available .\")\n",
    "        sys.exit(1)\n",
    "\n",
    "    try:\n",
    "        with open(inputfile, 'r') as input_file, open(outputfile, 'w') as output_file:\n",
    "            for line in input_file:\n",
    "                output_file.write(line)\n",
    "\n",
    "        print(f\"File '{inputfile}' processed successfully.\")\n",
    "    except Exception as e:\n",
    "        print(f\"An error occurred during file processing: {str(e)}\")\n",
    "        sys.exit(1)\n",
    "\n",
    "def file_exists(file):\n",
    "    try:\n",
    "        with open(file):\n",
    "            return True\n",
    "    except FileNotFoundError:\n",
    "        return False\n",
    "    except Exception:\n",
    "        return False\n",
    "\n",
    "if __name__ == \"__main__\":\n",
    "    main()"
   ]
  }
 ],
 "metadata": {
  "kernelspec": {
   "display_name": "Python 3 (ipykernel)",
   "language": "python",
   "name": "python3"
  },
  "language_info": {
   "codemirror_mode": {
    "name": "ipython",
    "version": 3
   },
   "file_extension": ".py",
   "mimetype": "text/x-python",
   "name": "python",
   "nbconvert_exporter": "python",
   "pygments_lexer": "ipython3",
   "version": "3.11.4"
  }
 },
 "nbformat": 4,
 "nbformat_minor": 5
}
