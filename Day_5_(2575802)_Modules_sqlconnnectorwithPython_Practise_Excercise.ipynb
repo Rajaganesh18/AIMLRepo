{
 "cells": [
  {
   "cell_type": "markdown",
   "id": "e53696fd",
   "metadata": {},
   "source": [
    "# 1. You are developing a complex python project with multiple modules, To manage the project effectively you need to import and use various modules. Additionally, you want to organize your code using namespaces and avoid naming conflicts\n",
    "Design a Python program that demonstrates the following:\n",
    "1. Import multiple modules within your project\n",
    "2. Use import statement to access functions, classes, and variables from imported modules.\n",
    "3. Create your custom module and use it in your main program\n",
    "4.Handle naming conflicts and ensure proper namespacing\n",
    "5. Implement error handling for missing modules or incorrect module usage\n"
   ]
  },
  {
   "cell_type": "code",
   "execution_count": null,
   "id": "c304ded0",
   "metadata": {},
   "outputs": [],
   "source": [
    "Day_5projects/\n",
    "    main.py\n",
    "    task1.py\n",
    "    task2.py\n",
    "    default_module/\n",
    "        functions.py"
   ]
  },
  {
   "cell_type": "code",
   "execution_count": null,
   "id": "49541242",
   "metadata": {},
   "outputs": [],
   "source": [
    "def raja():\n",
    "    return \"Rajaganesh G S\"\n",
    "a=10\n",
    "b=15\n",
    "c=20"
   ]
  },
  {
   "cell_type": "code",
   "execution_count": null,
   "id": "41d92445",
   "metadata": {},
   "outputs": [],
   "source": [
    "def gs():\n",
    "    return \"Mphasis\"\n",
    "\n",
    "d=100\n",
    "e=200\n",
    "f=300"
   ]
  },
  {
   "cell_type": "code",
   "execution_count": null,
   "id": "52f3f13a",
   "metadata": {},
   "outputs": [],
   "source": [
    "def function():\n",
    "    return \"18 is my lucky number\""
   ]
  },
  {
   "cell_type": "code",
   "execution_count": null,
   "id": "356475ce",
   "metadata": {},
   "outputs": [],
   "source": [
    "import task1\n",
    "import task2\n",
    "from default import __functions\n",
    "\n",
    "print(task1.raja())\n",
    "print(task2.gs())\n",
    "\n",
    "print(task1.a+task1.b)\n",
    "print(task2.d+task1.c)\n",
    "\n",
    "print(__functions.function())\n",
    "\n",
    "#Errors will be handled if modules does not exist\n",
    "try:\n",
    "    import non_existent_module\n",
    "except ImportError:\n",
    "    print(\"The module is not found\")"
   ]
  },
  {
   "cell_type": "markdown",
   "id": "eb1d02de",
   "metadata": {},
   "source": [
    "# 2. Virtual Environment Management.You are working on multiple Python projects with different dependencies and versions. To avoid conflicts and ensure project isolation, you decide to use virtual environments.\n",
    "Create a Python program that demonstrates the following\n",
    "1. Create a virtual environment for a specific project\n",
    "2. Activate and deactivate virtual environments\n",
    "3.Install, upgrade, and unistall packages in a virtual environment\n",
    "4. List the installed packages in a virtual environment\n",
    "5. Implement error handling for virtual environment operations"
   ]
  },
  {
   "cell_type": "code",
   "execution_count": 5,
   "id": "bcbafc4d",
   "metadata": {},
   "outputs": [
    {
     "name": "stdout",
     "output_type": "stream",
     "text": [
      "\n",
      "Virtual Environment Management Menu:\n",
      "1. Create a Virtual Environment\n",
      "2. Activate a Virtual Environment\n",
      "3. Deactivate the Active Virtual Environment\n",
      "4. Install a Package\n",
      "5. Upgrade a Package\n",
      "6. Uninstall a Package\n",
      "7. List Installed Packages\n",
      "8. Exit\n",
      "Enter your choice 8\n"
     ]
    }
   ],
   "source": [
    "import subprocess\n",
    "import sys\n",
    "import os\n",
    "\n",
    "def create_virtual(environment_name):\n",
    "    try:\n",
    "        subprocess.run([sys.executable, '-m', 'venv', environment_name])\n",
    "        print(f\"Virtual environment '{environment_name}' created successfully.\")\n",
    "    except Exception as e:\n",
    "        print(f\"Error creating virtual environment: {e}\")\n",
    "\n",
    "def activate_virtual(env_name):\n",
    "    try:\n",
    "        activate_script = os.path.join(env_name, 'Scripts' if sys.platform == 'win32' else 'bin', 'activate')\n",
    "        subprocess.run([activate_script], shell=True)\n",
    "        print(f\"Virtual environment '{env_name}' activated.\")\n",
    "    except Exception as e:\n",
    "        print(f\"Error activating virtual environment: {e}\")\n",
    "\n",
    "def deactivate_virtual():\n",
    "    try:\n",
    "        subprocess.run(['deactivate'], shell=True)\n",
    "        print(\"Virtual environment deactivated.\")\n",
    "    except Exception as e:\n",
    "        print(f\"Error deactivating virtual environment: {e}\")\n",
    "\n",
    "def install(environment_name, package):\n",
    "    try:\n",
    "        subprocess.run([f'{environment_name}/bin/python', '-m', 'pip', 'install', package])\n",
    "        print(f\"Package '{package}' installed in '{environment_name}'.\")\n",
    "    except Exception as e:\n",
    "        print(f\"Error installing package: {e}\")\n",
    "\n",
    "def upgrade(environment_name, package):\n",
    "    try:\n",
    "        subprocess.run([f'{environment_name}/bin/python', '-m', 'pip', 'install', '--upgrade', package])\n",
    "        print(f\"Package '{package}' upgraded in '{environment_name}'.\")\n",
    "    except Exception as e:\n",
    "        print(f\"Error upgrading package: {e}\")\n",
    "\n",
    "def uninstall(environment_name, package):\n",
    "    try:\n",
    "        print(f\"Package '{package}' uninstalled from '{environment_name}'.\")\n",
    "    except Exception as e:\n",
    "        print(f\"Error uninstalling package: {e}\")\n",
    "\n",
    "def list_packages(environment_name):\n",
    "    try:\n",
    "        subprocess.run([f'{environment_name}/bin/python', '-m', 'pip', 'freeze'])\n",
    "    except Exception as e:\n",
    "        print(f\"Error listing installed packages: {e}\")\n",
    "\n",
    "if __name__ == \"__main__\":\n",
    "    while True:\n",
    "        print(\"\\nVirtual Environment Management Menu:\")\n",
    "        print(\"1. Create a Virtual Environment\")\n",
    "        print(\"2. Activate a Virtual Environment\")\n",
    "        print(\"3. Deactivate the Active Virtual Environment\")\n",
    "        print(\"4. Install a Package\")\n",
    "        print(\"5. Upgrade a Package\")\n",
    "        print(\"6. Uninstall a Package\")\n",
    "        print(\"7. List Installed Packages\")\n",
    "        print(\"8. Exit\")\n",
    "\n",
    "        choice = input(\"Enter your choice \")\n",
    "\n",
    "        if choice == \"1\":\n",
    "            name = input(\"Enter a name for the new virtual environment: \")\n",
    "            create_virtual(name)\n",
    "        elif choice == \"2\":\n",
    "            name = input(\"Enter the name of the virtual environment to activate: \")\n",
    "            activate_virtual(name)\n",
    "        elif choice == \"3\":\n",
    "            deactivate_virtual()\n",
    "        elif choice == \"4\":\n",
    "            name = input(\"Enter the name of the virtual environment: \")\n",
    "            package = input(\"Enter the name of the package to install: \")\n",
    "            install(name, package)\n",
    "        elif choice == \"5\":\n",
    "            name = input(\"Enter the name of the virtual environment: \")\n",
    "            package = input(\"Enter the name of the package to upgrade: \")\n",
    "            upgrade(name, package)\n",
    "        elif choice == \"6\":\n",
    "            name = input(\"Enter the name of the virtual environment: \")\n",
    "            package = input(\"Enter the name of the package to uninstall: \")\n",
    "            uninstall(name, package)\n",
    "        elif choice == \"7\":\n",
    "            name = input(\"Enter the name of the virtual environment: \")\n",
    "            list_packages(name)\n",
    "        elif choice == \"8\":\n",
    "            break\n",
    "        else:\n",
    "            print(\"Invalid choice. Please select a valid option.\")"
   ]
  },
  {
   "cell_type": "markdown",
   "id": "71dc28c7",
   "metadata": {},
   "source": [
    "# 3. Module Dependency ResolutionScenario: You are developing a Python application that relies on third-party packages. Managing dependencies and ensuring compatibility is crucial for your project's success.\n",
    "Design a Python program that demonstrates the following:\n",
    "1. Use a requirements.txt file to specify project dependencies\n",
    "2. Automaticaly install all project dependencies from the requirements.txt file\n",
    "3.Ensure that the versions of installed packages are compatible\n",
    "4. Implement error handling for dependency resolution and installation"
   ]
  },
  {
   "cell_type": "code",
   "execution_count": 6,
   "id": "32f10dbd",
   "metadata": {},
   "outputs": [
    {
     "name": "stdout",
     "output_type": "stream",
     "text": [
      "Dependencies installed successfully.\n"
     ]
    }
   ],
   "source": [
    "import subprocess\n",
    "\n",
    "def install_dependencies(requirements_file):\n",
    "    try:\n",
    "        subprocess.run([\"pip\", \"install\", \"-r\", requirements_file])\n",
    "        print(\"Dependencies installed successfully.\")\n",
    "    except Exception as e:\n",
    "        print(f\"Error installing dependencies: {e}\")\n",
    "\n",
    "        \n",
    "if __name__ == \"__main__\":\n",
    "    requiredFile = \"requirements.txt\" \n",
    "    try:\n",
    "        install_dependencies(requiredFile)\n",
    "    except Exception as e:\n",
    "        print(f\"Error: {e}\")\n"
   ]
  },
  {
   "cell_type": "markdown",
   "id": "93a76037",
   "metadata": {},
   "source": [
    "# Database Programming with Mysql"
   ]
  },
  {
   "cell_type": "markdown",
   "id": "12e56956",
   "metadata": {},
   "source": [
    "# 1. Implement Inventory Management in Python with Mysql\n",
    "a) Inventory managaement, a critical element of the supply chain, is the tracking of inventory from manufactures to warehouses and from these facilities to a point of sale at the right time.\n",
    "b)The required Databse is Inventory, and the required Tables are Purchases,Sales and Inventory\n",
    "c.)Note: Apply your thoughts to demonstrate the DB operation in Python"
   ]
  },
  {
   "cell_type": "code",
   "execution_count": 28,
   "id": "75c03184",
   "metadata": {},
   "outputs": [
    {
     "name": "stdout",
     "output_type": "stream",
     "text": [
      "<mysql.connector.connection_cext.CMySQLConnection object at 0x000001F0C3AC2A10>\n"
     ]
    }
   ],
   "source": [
    "import mysql.connector\n",
    "\n",
    "conn=mysql.connector.connect(user='root',\n",
    "                            password='Raja@15275',\n",
    "                            host='127.0.0.1',\n",
    "                            database='Inventory')\n",
    "\n",
    "print(conn)"
   ]
  },
  {
   "cell_type": "code",
   "execution_count": null,
   "id": "57cee9cd",
   "metadata": {},
   "outputs": [],
   "source": [
    "curs = conn.cursor()\n",
    "\n",
    "create_purchases = \"\"\"\n",
    "CREATE TABLE purchases (\n",
    "    Purchase_ID INT AUTO_INCREMENT PRIMARY KEY,\n",
    "    Product_ID INT NOT NULL,\n",
    "    Supplier_ID INT NOT NULL,\n",
    "    Purchase_Date DATE NOT NULL,\n",
    "    Quantity INT NOT NULL,\n",
    ")\n",
    "\"\"\"\n",
    "create_sales= \"\"\"\n",
    "CREATE TABLE sales (\n",
    "    Sale_ID INT AUTO_INCREMENT PRIMARY KEY,\n",
    "    Product_ID INT NOT NULL,\n",
    "    Customer_ID INT NOT NULL,\n",
    "    Sale_Date DATE NOT NULL,\n",
    ")\n",
    "\"\"\"\n",
    "\n",
    "create_inventory = \"\"\"\n",
    "CREATE TABLE inventory (\n",
    "    Product_ID INT AUTO_INCREMENT PRIMARY KEY,\n",
    "    Product_Name VARCHAR(255) NOT NULL,\n",
    ")\n",
    "\"\"\"\n",
    "curs.execute(create_inventory)\n",
    "curs.execute(create_purchases)\n",
    "curs.execute(create_sales)"
   ]
  },
  {
   "cell_type": "markdown",
   "id": "4ae17833",
   "metadata": {},
   "source": [
    "# 2. Custom Order Processesing Scenario: You are building a customer order processing system for an e-commerce company. The system needs to interact with a Mysql database to store customer orders, products and order details\n",
    "1. Design a mysql database schema for order processing system, including tables for customers, products and orders\n",
    "2.Write a python program that connects to the database and allows customers to place new orders\n",
    "3.Implement a feature that calculates the total cost of an order and updates product quantities in the database\n",
    "4. How would you handle cases where a product is no longer available when a customer places an order?"
   ]
  },
  {
   "cell_type": "code",
   "execution_count": 13,
   "id": "7a456015",
   "metadata": {},
   "outputs": [],
   "source": [
    "cursor = conn.cursor()\n",
    "\n",
    "def Order(customer_id, product_id, quantity):\n",
    "    cursor.execute(\"SELECT Quantity FROM products WHERE Product_ID = %s\", (product_id,))\n",
    "    available_quantity = cursor.fetchone()[0]\n",
    "    \n",
    "    if available_quantity >= quantity:\n",
    "        cursor.execute(\"SELECT Price FROM products WHERE Product_ID = %s\", (product_id,))\n",
    "        price = cursor.fetchone()[0]\n",
    "        total_price = price * quantity\n",
    "        \n",
    "        cursor.execute(\"INSERT INTO orders (Customer_ID) VALUES (%s)\", (customer_id,))\n",
    "        order_id = cursor.lastrowid\n",
    "        \n",
    "        cursor.execute(\"INSERT INTO order_details (Order_ID, Product_ID, Quantity, Total_Price) VALUES (%s, %s, %s, %s)\",\n",
    "                       (order_id, product_id, quantity, total_price))\n",
    "    \n",
    "        new_quantity = available_quantity - quantity\n",
    "        cursor.execute(\"UPDATE products SET Quantity = %s WHERE Product_ID = %s\", (new_quantity, product_id))\n",
    "        \n",
    "        connection.commit()\n",
    "        return f\"Order placed successfully! Order ID: {order_id}\"\n",
    "    else:\n",
    "        return \"Product is not available in sufficient quantity.\"\n"
   ]
  },
  {
   "cell_type": "code",
   "execution_count": null,
   "id": "7b7afddf",
   "metadata": {},
   "outputs": [],
   "source": [
    "customer_id = 1   \n",
    "product_id = 1  \n",
    "quantity = 2     \n",
    "result = Order(customer_id, product_id, quantity)\n",
    "print(result)\n",
    "\n",
    "conn.close()\n"
   ]
  },
  {
   "cell_type": "markdown",
   "id": "f21d2a59",
   "metadata": {},
   "source": [
    "# 3. You are tasked with developing a python program that connects to a Mysql database, retrieves data from a table, performs some operations on the data, and updates the database with the modified data. please write a python code to accomplish this taskYour python program should\n",
    "1. connect to the Mysql database\n",
    "2. Retrieve all records from the your_tablename\n",
    "calculate the total quantity of all records retrieved\n",
    "4. Update the quantity column of each record by doubling its value\n",
    "5.Commit the changes to the database\n",
    "5.close the database connection\n",
    "6. Handle the errors\n",
    "7.provide the comments in the code\n",
    "Note:\n",
    "TABLE NAME: your_table\n",
    "The table has the following columns: id(int), name(varchar), quantity(int)"
   ]
  },
  {
   "cell_type": "code",
   "execution_count": null,
   "id": "8c266a0d",
   "metadata": {},
   "outputs": [],
   "source": [
    "cursor.execute(\"SELECT * FROM your_table\")\n",
    "records = cursor.fetchall()\n",
    "\n",
    "# Calculate the total quantity of all records retrieved\n",
    "total_quantity = sum(record[2] for record in records)\n",
    "\n",
    "# Update the quantity column of each record by doubling its value\n",
    "for record in records:\n",
    "    new_quantity = record[2] * 2\n",
    "    cursor.execute(\"UPDATE your_table SET quantity = %s WHERE id = %s\", (new_quantity, record[0]))\n",
    "\n",
    "    # Commit the changes to the database\n",
    "conn.commit()\n",
    "\n",
    "    # Close the cursor and connection\n",
    "cursor.close()\n",
    "conn.close()\n",
    "\n",
    "print(f\"Total quantity before doubling: {total_quantity}\")\n",
    "print(\"All records updated successfully.\")"
   ]
  },
  {
   "cell_type": "markdown",
   "id": "20d05909",
   "metadata": {},
   "source": [
    "# 4.You are developing an employee management system for a company. The database should store employee information, including name, salary, department and hire date. Managers should be able to view and update employee details.\n",
    "1. Design the database schema for employee management system\n",
    "2. Write a python code to connect to the database and retrieve a list of employees in a specific department.\n",
    "3. Implement a feature to update an employee's salary\n"
   ]
  },
  {
   "cell_type": "code",
   "execution_count": 27,
   "id": "4b5e64d2",
   "metadata": {},
   "outputs": [
    {
     "name": "stdout",
     "output_type": "stream",
     "text": [
      "No employees found in the Sales department.\n"
     ]
    }
   ],
   "source": [
    "import mysql.connector\n",
    "\n",
    "def retrieve_employees_by_department(department_name):\n",
    "    try:\n",
    "        cursor = conn.cursor()\n",
    "\n",
    "        query = \"SELECT * FROM employees WHERE department = %s\"\n",
    "        cursor.execute(query, (department_name,))\n",
    "        employees = cursor.fetchall()\n",
    "\n",
    "        if employees:\n",
    "            print(f\"Employees in the {department_name} department:\")\n",
    "            for employee in employees:\n",
    "                print(f\"Employee ID: {employee[0]}, Name: {employee[1]}, Salary: {employee[2]}, Hire Date: {employee[4]}\")\n",
    "        else:\n",
    "            print(f\"No employees found in the {department_name} department.\")\n",
    "\n",
    "\n",
    "        cursor.close()\n",
    "        conn.close()\n",
    "\n",
    "    except mysql.connector.Error as error:\n",
    "        print(f\"Error: {error}\")\n",
    "\n",
    "if __name__ == \"__main__\":\n",
    "    department_name = \"Sales\"\n",
    "    retrieve_employees_by_department(department_name)\n"
   ]
  },
  {
   "cell_type": "code",
   "execution_count": null,
   "id": "58fa8b4e",
   "metadata": {},
   "outputs": [],
   "source": [
    "def update_employee_salary(employee_id, new_salary):\n",
    "    try:\n",
    "        cursor = conn.cursor()\n",
    "\n",
    "        query = \"UPDATE employees SET salary = %s WHERE employee_id = %s\"\n",
    "        cursor.execute(query, (new_salary, employee_id))\n",
    "        conn.commit()\n",
    "\n",
    "        print(f\"Employee {employee_id}'s salary updated to {new_salary}.\")\n",
    "\n",
    "        cursor.close()\n",
    "        conn.close()\n",
    "\n",
    "    except mysql.connector.Error as error:\n",
    "        print(f\"Error: {error}\")\n",
    "\n",
    "if __name__ == \"__main__\":\n",
    "    employee_id=2\n",
    "    new_salary=25000\n",
    "    update_employee_salary(wmployee_id,new_salary)"
   ]
  }
 ],
 "metadata": {
  "kernelspec": {
   "display_name": "Python 3 (ipykernel)",
   "language": "python",
   "name": "python3"
  },
  "language_info": {
   "codemirror_mode": {
    "name": "ipython",
    "version": 3
   },
   "file_extension": ".py",
   "mimetype": "text/x-python",
   "name": "python",
   "nbconvert_exporter": "python",
   "pygments_lexer": "ipython3",
   "version": "3.11.4"
  }
 },
 "nbformat": 4,
 "nbformat_minor": 5
}
