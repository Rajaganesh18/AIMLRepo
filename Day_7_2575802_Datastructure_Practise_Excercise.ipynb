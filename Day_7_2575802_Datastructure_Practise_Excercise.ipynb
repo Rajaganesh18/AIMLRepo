{
 "cells": [
  {
   "cell_type": "markdown",
   "id": "4de16678",
   "metadata": {},
   "source": [
    "# 1. Linear Search"
   ]
  },
  {
   "cell_type": "code",
   "execution_count": 1,
   "id": "f75dfea7",
   "metadata": {},
   "outputs": [
    {
     "name": "stdout",
     "output_type": "stream",
     "text": [
      "Ente the element to be found4\n",
      "Element found at index:  3\n"
     ]
    }
   ],
   "source": [
    "def linearSearch(array, n, x):\n",
    "\n",
    "    for i in range(0, n):\n",
    "        if (array[i] == x):\n",
    "            return i\n",
    "    return -1\n",
    "\n",
    "\n",
    "array=[1,2,3,4,5,65,75,13,14]\n",
    "n=len(array)\n",
    "x=int(input(\"Ente the element to be found\"))\n",
    "result = linearSearch(array, n, x)\n",
    "if(result == -1):\n",
    "    print(\"Element not found\")\n",
    "else:\n",
    "    print(\"Element found at index: \", result)"
   ]
  },
  {
   "cell_type": "markdown",
   "id": "18df1c89",
   "metadata": {},
   "source": [
    "# 2. Binary Search"
   ]
  },
  {
   "cell_type": "code",
   "execution_count": 4,
   "id": "145faf17",
   "metadata": {},
   "outputs": [
    {
     "name": "stdout",
     "output_type": "stream",
     "text": [
      "Enter # of elements to be inserted:\t5\n",
      "Enter the Element 1:4\n",
      "Enter the Element 2:6\n",
      "Enter the Element 3:7\n",
      "Enter the Element 4:9\n",
      "Enter the Element 5:16\n",
      "Enter the value to be searched:\t15\n",
      "Element 15 is not found in the list\n",
      "[4, 6, 7, 9, 16]\n"
     ]
    }
   ],
   "source": [
    "data=[]\n",
    "n=int(input('Enter # of elements to be inserted:\\t'))\n",
    "for i in range(0,n):\n",
    "    x=int(input('Enter the Element %d:'%(i+1)))\n",
    "    data.append(x)\n",
    "\n",
    "e=int(input('Enter the value to be searched:\\t'))\n",
    "first=0\n",
    "last=n-1\n",
    "found=False\n",
    "while(first<=last and not found):\n",
    "    mid=(first+last)//2\n",
    "    if data[mid]==e:\n",
    "        found=True\n",
    "        \n",
    "    else:\n",
    "        if e<data[mid]:\n",
    "            last=mid-1\n",
    "        else:\n",
    "            first=mid+1\n",
    "            \n",
    "if found:\n",
    "    print('Element %d Found at Position %d'%(e,mid+1))\n",
    "else:\n",
    "    print('Element %d is not found in the list'%(e))\n",
    "    \n",
    "print(data)"
   ]
  },
  {
   "cell_type": "markdown",
   "id": "bc5c2010",
   "metadata": {},
   "source": [
    "# 3. Write a Python program for sorting a lsit of elements usin selection sort algorithm"
   ]
  },
  {
   "cell_type": "code",
   "execution_count": 6,
   "id": "82c48678",
   "metadata": {},
   "outputs": [
    {
     "name": "stdout",
     "output_type": "stream",
     "text": [
      "[12, 75, 42, 45, 13]\n",
      "[12, 13, 42, 45, 75]\n",
      "[12, 13, 42, 45, 75]\n",
      "[12, 13, 42, 45, 75]\n",
      "[12, 13, 42, 45, 75]\n",
      "[13, 42, 45, 75]\n",
      "[13, 42, 45, 75]\n",
      "[13, 42, 45, 75]\n",
      "[13, 42, 45, 75]\n",
      "[42, 45, 75]\n",
      "[42, 45, 75]\n",
      "[42, 45, 75]\n",
      "[45, 75]\n",
      "[45, 75]\n",
      "[75]\n",
      "Sorted List: [12, 13, 42, 45, 75]\n"
     ]
    }
   ],
   "source": [
    "def selection_sort(arr):\n",
    "    n = len(arr)\n",
    "    for i in range(n):\n",
    "        min_index = i\n",
    "        for j in range(i + 1, n):\n",
    "            if arr[j] < arr[min_index]:\n",
    "                min_index = j\n",
    "        arr[i], arr[min_index] = arr[min_index], arr[i]\n",
    "        print(arr)\n",
    "\n",
    "def main():\n",
    "    unsorted_list = [45, 75, 42, 12, 13]\n",
    "    sorted_list = []\n",
    "\n",
    "    while unsorted_list:\n",
    "        selection_sort(unsorted_list)\n",
    "        smallest = unsorted_list.pop(0)\n",
    "        sorted_list.append(smallest)\n",
    "\n",
    "    print(\"Sorted List:\", sorted_list)\n",
    "\n",
    "\n",
    "main()\n"
   ]
  },
  {
   "cell_type": "markdown",
   "id": "5ee212f4",
   "metadata": {},
   "source": [
    "# 4. Write a Python program for sorting a list of elements using insertion sort algorithm"
   ]
  },
  {
   "cell_type": "code",
   "execution_count": 1,
   "id": "56a09041",
   "metadata": {},
   "outputs": [
    {
     "name": "stdout",
     "output_type": "stream",
     "text": [
      "Sorted array: [5, 6, 11, 12, 13]\n"
     ]
    }
   ],
   "source": [
    "def insertion_sort(arr):\n",
    "    for i in range(1, len(arr)):\n",
    "        key = arr[i]\n",
    "        j = i - 1\n",
    "        while j >= 0 and key < arr[j]:\n",
    "            arr[j + 1] = arr[j]\n",
    "            j -= 1\n",
    "        arr[j + 1] = key\n",
    "\n",
    "my_list = [12, 11, 13, 5, 6]\n",
    "insertion_sort(my_list)\n",
    "print(\"Sorted array:\", my_list)"
   ]
  },
  {
   "cell_type": "code",
   "execution_count": 2,
   "id": "1a003635",
   "metadata": {},
   "outputs": [
    {
     "name": "stdout",
     "output_type": "stream",
     "text": [
      "Sorted array: [1, 2, 3, 4, 5, 6]\n"
     ]
    }
   ],
   "source": [
    "def insertion_sort(arr):\n",
    "    for i in range(1, len(arr)):\n",
    "        key = arr[i]\n",
    "        j = i - 1\n",
    "        while j >= 0 and key < arr[j]:\n",
    "            arr[j + 1] = arr[j]\n",
    "            j -= 1\n",
    "        arr[j + 1] = key\n",
    "\n",
    "my_list = [1,2,3,4,5,6]\n",
    "insertion_sort(my_list)\n",
    "print(\"Sorted array:\", my_list)"
   ]
  },
  {
   "cell_type": "markdown",
   "id": "22ace4cb",
   "metadata": {},
   "source": [
    "# 5. Write a python program that performs merge sort on a list of numbers:\n"
   ]
  },
  {
   "cell_type": "code",
   "execution_count": 7,
   "id": "82d9a9bc",
   "metadata": {},
   "outputs": [
    {
     "name": "stdout",
     "output_type": "stream",
     "text": [
      "Unsorted List: [32, 41, 23, 65, 786, 17]\n",
      "Sorted List: [17, 23, 32, 41, 65, 786]\n"
     ]
    }
   ],
   "source": [
    "def merge_sort(arr):\n",
    "    if len(arr) > 1:\n",
    "        mid = len(arr) // 2  \n",
    "        left_half = arr[:mid]  \n",
    "        right_half = arr[mid:]\n",
    "\n",
    "        merge_sort(left_half)\n",
    "        merge_sort(right_half)\n",
    "\n",
    "        i = j = k = 0\n",
    "\n",
    "        while i < len(left_half) and j < len(right_half):\n",
    "            if left_half[i] < right_half[j]:\n",
    "                arr[k] = left_half[i]\n",
    "                i += 1\n",
    "            else:\n",
    "                arr[k] = right_half[j]\n",
    "                j += 1\n",
    "            k += 1\n",
    "\n",
    "        while i < len(left_half):\n",
    "            arr[k] = left_half[i]\n",
    "            i += 1\n",
    "            k += 1\n",
    "\n",
    "        while j < len(right_half):\n",
    "            arr[k] = right_half[j]\n",
    "            j += 1\n",
    "            k += 1\n",
    "\n",
    "def main():\n",
    "    unsorted_list = [32, 41, 23, 65, 786, 17]\n",
    "    print(\"Unsorted List:\", unsorted_list)\n",
    "\n",
    "    merge_sort(unsorted_list)\n",
    "\n",
    "    print(\"Sorted List:\", unsorted_list)\n",
    "\n",
    "main()\n"
   ]
  },
  {
   "cell_type": "markdown",
   "id": "3063ab08",
   "metadata": {},
   "source": [
    "# 6. Write a Python Script to perform the following operations on a singly linked list\n",
    "a. Create a list\n",
    "2. Find the smallest element from the list\n",
    "3.Insert an element if it is not a duplicate element\n",
    "4. Display the elements in reverse order"
   ]
  },
  {
   "cell_type": "code",
   "execution_count": null,
   "id": "6b6b5610",
   "metadata": {},
   "outputs": [],
   "source": [
    "class Node:\n",
    "    def __init__(self, data):\n",
    "        self.data = data\n",
    "        self.next = None\n",
    "\n",
    "class LinkedList:\n",
    "    def __init__(self):\n",
    "        self.head = None\n",
    "\n",
    "    def append(self, data):\n",
    "        new_node = Node(data)\n",
    "        if not self.head:\n",
    "            self.head = new_node\n",
    "        else:\n",
    "            current = self.head\n",
    "            while current.next:\n",
    "                current = current.next\n",
    "            current.next = new_node\n",
    "\n",
    "    def display(self):\n",
    "        current = self.head\n",
    "        while current:\n",
    "            print(current.data, end=\" -> \")\n",
    "            current = current.next\n",
    "        print(\"None\")\n",
    "\n",
    "    def find_smallest(self):\n",
    "        if not self.head:\n",
    "            return None\n",
    "        smallest = self.head.data\n",
    "        current = self.head.next\n",
    "        while current:\n",
    "            if current.data < smallest:\n",
    "                smallest = current.data\n",
    "            current = current.next\n",
    "        return smallest\n",
    "\n",
    "    def insert_unique(self, data):\n",
    "        if not self.head:\n",
    "            self.head = Node(data)\n",
    "        else:\n",
    "            current = self.head\n",
    "            while current:\n",
    "                if current.data == data:\n",
    "                    return\n",
    "                if not current.next:\n",
    "                    current.next = Node(data)\n",
    "                    return\n",
    "                current = current.next\n",
    "\n",
    "    def display_reverse(self):\n",
    "        elements = []\n",
    "        current = self.head\n",
    "        while current:\n",
    "            elements.append(current.data)\n",
    "            current = current.next\n",
    "        elements.reverse()\n",
    "        for data in elements:\n",
    "            print(data, end=\" -> \")\n",
    "        print(\"None\")\n",
    "\n",
    "my_list = LinkedList()\n",
    "my_list.append(4)\n",
    "my_list.append(6)\n",
    "my_list.append(8)\n",
    "my_list.append(1)\n",
    "my_list.append(2)\n",
    "\n",
    "print(\"Original Linked List:\")\n",
    "my_list.display()\n",
    "\n",
    "smallest_element = my_list.find_smallest()\n",
    "print(f\"Smallest element in the list: {smallest_element}\")\n",
    "\n",
    "element_to_insert = 3\n",
    "my_list.insert_unique(element_to_insert)\n",
    "print(f\"Linked List after inserting {element_to_insert} if not duplicate:\")\n",
    "my_list.display()\n",
    "\n",
    "print(\"Linked List in Reverse Order:\")\n",
    "my_list.display_reverse()\n"
   ]
  },
  {
   "cell_type": "markdown",
   "id": "d5ddeafe",
   "metadata": {},
   "source": [
    "# 7.Write a python program to implement the various operations for Stack ADT\n",
    "1. Push\n",
    "2. Pop\n",
    "3. Display"
   ]
  },
  {
   "cell_type": "code",
   "execution_count": 7,
   "id": "01557844",
   "metadata": {},
   "outputs": [
    {
     "name": "stdout",
     "output_type": "stream",
     "text": [
      "After Push Operations The stack will be\n",
      "Stack Contents:\n",
      "7\n",
      "5\n",
      "4\n",
      "Popped item is  7\n",
      "After Pop Operation the stack will be:\n",
      "Stack Contents:\n",
      "5\n",
      "4\n"
     ]
    }
   ],
   "source": [
    "class Stack:\n",
    "    def __init__(self):\n",
    "        self.items = []\n",
    "\n",
    "    def is_empty(self):\n",
    "        return len(self.items) == 0\n",
    "\n",
    "    def push(self, item):\n",
    "        self.items.append(item)\n",
    "\n",
    "    def pop(self):\n",
    "        if not self.is_empty():\n",
    "            return self.items.pop()\n",
    "        else:\n",
    "            print(\"Stack is empty. Cannot pop.\")\n",
    "\n",
    "    def display(self):\n",
    "        if not self.is_empty():\n",
    "            print(\"Stack Contents:\")\n",
    "            for item in reversed(self.items):\n",
    "                print(item)\n",
    "        else:\n",
    "            print(\"Stack is empty.\")\n",
    "\n",
    "\n",
    "\n",
    "stack = Stack()\n",
    "\n",
    "stack.push(4)\n",
    "stack.push(5)\n",
    "stack.push(7)\n",
    "\n",
    "print(\"After Push Operations The stack will be\")\n",
    "stack.display()\n",
    "\n",
    "popped_item = stack.pop()\n",
    "print(f\"Popped item is  {popped_item}\")\n",
    "\n",
    "print(\"After Pop Operation the stack will be:\")\n",
    "stack.display()\n"
   ]
  },
  {
   "cell_type": "markdown",
   "id": "17805ffe",
   "metadata": {},
   "source": [
    "# 8.Write a python program to implement the various operations for Queue ADT \n",
    "1. Push\n",
    "2. Pop\n",
    "3. Display"
   ]
  },
  {
   "cell_type": "code",
   "execution_count": 8,
   "id": "a8e18ead",
   "metadata": {},
   "outputs": [
    {
     "name": "stdout",
     "output_type": "stream",
     "text": [
      "After Enqueue Operations:\n",
      "The Contents of the Queue :\n",
      "1\n",
      "2\n",
      "3\n",
      "Dequeued item: 1\n",
      "After Dequeue Operation:\n",
      "The Contents of the Queue :\n",
      "2\n",
      "3\n"
     ]
    }
   ],
   "source": [
    "class Queue:\n",
    "    def __init__(self):\n",
    "        self.items = []\n",
    "\n",
    "    def is_empty(self):\n",
    "        return len(self.items) == 0\n",
    "\n",
    "    def enqueue(self, item):\n",
    "        self.items.append(item)\n",
    "\n",
    "    def dequeue(self):\n",
    "        if not self.is_empty():\n",
    "            return self.items.pop(0)  \n",
    "        else:\n",
    "            print(\"Queue is empty. \")\n",
    "\n",
    "    def display(self):\n",
    "        if not self.is_empty():\n",
    "            print(\"The Contents of the Queue :\")\n",
    "            for item in self.items:\n",
    "                print(item)\n",
    "        else:\n",
    "            print(\"Queue is empty.\")\n",
    "\n",
    "\n",
    "queue = Queue()\n",
    "\n",
    "queue.enqueue(1)\n",
    "queue.enqueue(2)\n",
    "queue.enqueue(3)\n",
    "\n",
    "print(\"After Enqueue Operations:\")\n",
    "queue.display()\n",
    "\n",
    "dequeued_item = queue.dequeue()\n",
    "print(f\"Dequeued item: {dequeued_item}\")\n",
    "\n",
    "print(\"After Dequeue Operation:\")\n",
    "queue.display()\n"
   ]
  },
  {
   "cell_type": "markdown",
   "id": "72cfb953",
   "metadata": {},
   "source": [
    "# 9.Write a program in python to convert the following infix expression to its postfix form using push and pop operations of a Stack\n",
    "a. A/B^C+D*E-F*G\n",
    "b. (B^2-4*A*C)^(1/2)(100)"
   ]
  },
  {
   "cell_type": "code",
   "execution_count": 9,
   "id": "fc15855a",
   "metadata": {},
   "outputs": [
    {
     "name": "stdout",
     "output_type": "stream",
     "text": [
      "Infix Expression A: A/B^C+D*E-F*G\n",
      "Postfix Expression A: ABC^/DE*+FG*-\n",
      "Infix Expression B: (B^2-4*A*C)^(1/2)*(100)\n",
      "Postfix Expression B: B2^4A*C*-12/^100*\n"
     ]
    }
   ],
   "source": [
    "class Stack:\n",
    "    def __init__(self):\n",
    "        self.items = []\n",
    "\n",
    "    def is_empty(self):\n",
    "        return len(self.items) == 0\n",
    "\n",
    "    def push(self, item):\n",
    "        self.items.append(item)\n",
    "\n",
    "    def pop(self):\n",
    "        if not self.is_empty():\n",
    "            return self.items.pop()\n",
    "        else:\n",
    "            return None\n",
    "\n",
    "    def peek(self):\n",
    "        if not self.is_empty():\n",
    "            return self.items[-1]\n",
    "        else:\n",
    "            return None\n",
    "\n",
    "    def precedence(self, operator):\n",
    "        precedence_dict = {'+': 1, '-': 1, '*': 2, '/': 2, '^': 3}\n",
    "        return precedence_dict.get(operator, 0)\n",
    "\n",
    "def infix_to_postfix(expression):\n",
    "    stack = Stack()\n",
    "    postfix = []\n",
    "    operators = \"+-*/^\"\n",
    "\n",
    "    for char in expression:\n",
    "        if char.isalnum():\n",
    "            postfix.append(char)\n",
    "        elif char == '(':\n",
    "            stack.push(char)\n",
    "        elif char == ')':\n",
    "            while stack.peek() != '(' and not stack.is_empty():\n",
    "                postfix.append(stack.pop())\n",
    "            if not stack.is_empty() and stack.peek() == '(':\n",
    "                stack.pop()\n",
    "        elif char in operators:\n",
    "            while (not stack.is_empty() and\n",
    "                    stack.precedence(char) <= stack.precedence(stack.peek())):\n",
    "                postfix.append(stack.pop())\n",
    "            stack.push(char)\n",
    "\n",
    "    while not stack.is_empty():\n",
    "        postfix.append(stack.pop())\n",
    "\n",
    "    return ''.join(postfix)\n",
    "\n",
    "infix_expression_a = \"A/B^C+D*E-F*G\"\n",
    "infix_expression_b = \"(B^2-4*A*C)^(1/2)*(100)\"\n",
    "\n",
    "postfix_a = infix_to_postfix(infix_expression_a)\n",
    "postfix_b = infix_to_postfix(infix_expression_b)\n",
    "\n",
    "print(f\"Infix Expression A: {infix_expression_a}\")\n",
    "print(f\"Postfix Expression A: {postfix_a}\")\n",
    "\n",
    "print(f\"Infix Expression B: {infix_expression_b}\")\n",
    "print(f\"Postfix Expression B: {postfix_b}\")\n"
   ]
  }
 ],
 "metadata": {
  "kernelspec": {
   "display_name": "Python 3 (ipykernel)",
   "language": "python",
   "name": "python3"
  },
  "language_info": {
   "codemirror_mode": {
    "name": "ipython",
    "version": 3
   },
   "file_extension": ".py",
   "mimetype": "text/x-python",
   "name": "python",
   "nbconvert_exporter": "python",
   "pygments_lexer": "ipython3",
   "version": "3.11.4"
  }
 },
 "nbformat": 4,
 "nbformat_minor": 5
}
